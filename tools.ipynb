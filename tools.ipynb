{
 "cells": [
  {
   "metadata": {},
   "cell_type": "markdown",
   "source": "# 下载并缓存模型",
   "id": "73d82938a4ea4e0f"
  },
  {
   "metadata": {
    "ExecuteTime": {
     "end_time": "2024-05-03T12:37:17.304982Z",
     "start_time": "2024-05-03T12:35:49.222108Z"
    }
   },
   "cell_type": "code",
   "source": [
    "import os\n",
    "\n",
    "from modelscope.hub.snapshot_download import snapshot_download\n",
    "#model_dir = snapshot_download('PAI/HQSEG-44K')\n",
    "model_dir = snapshot_download('langboat/bloom-800m-zh', cache_dir='model')"
   ],
   "id": "ab873155123d8128",
   "outputs": [
    {
     "name": "stderr",
     "output_type": "stream",
     "text": [
      "2024-05-03 20:35:56,356 - modelscope - INFO - PyTorch version 2.3.0 Found.\n",
      "2024-05-03 20:35:56,358 - modelscope - INFO - Loading ast index from C:\\Users\\dafei\\.cache\\modelscope\\ast_indexer\n",
      "2024-05-03 20:35:56,445 - modelscope - INFO - No valid ast index found from C:\\Users\\dafei\\.cache\\modelscope\\ast_indexer, generating ast index from prebuilt!\n",
      "2024-05-03 20:35:56,518 - modelscope - INFO - Loading done! Current index file version is 1.14.0, with md5 c942686ad53b71759433c4324931c7b6 and a total number of 976 components indexed\n",
      "2024-05-03 20:35:58,828 - modelscope - WARNING - Model revision not specified, use revision: v1.0.0\n",
      "Downloading: 100%|██████████| 801/801 [00:00<?, ?B/s] \n",
      "Downloading: 100%|██████████| 3.54k/3.54k [00:00<00:00, 3.65MB/s]\n",
      "Downloading: 100%|█████████▉| 3.06G/3.06G [01:13<00:00, 44.5MB/s]\n",
      "Downloading: 100%|██████████| 1.04k/1.04k [00:00<?, ?B/s]\n",
      "Downloading: 100%|██████████| 96.0/96.0 [00:00<?, ?B/s]\n",
      "Downloading: 100%|██████████| 2.54M/2.54M [00:00<00:00, 11.3MB/s]\n",
      "Downloading: 100%|██████████| 288/288 [00:00<?, ?B/s] \n"
     ]
    }
   ],
   "execution_count": 1
  },
  {
   "metadata": {},
   "cell_type": "markdown",
   "source": "# 下载数据集",
   "id": "2fd681fdc67922f2"
  },
  {
   "metadata": {
    "ExecuteTime": {
     "end_time": "2024-05-03T10:23:55.659446Z",
     "start_time": "2024-05-03T10:22:52.760762Z"
    }
   },
   "cell_type": "code",
   "source": [
    "import requests\n",
    "import os\n",
    "# 定义Github仓库的URL和文件路径\n",
    "data_url = \"http://raw.githubusercontent.com/SCIR-HI/Huatuo-Llama-Med-Chinese/main/data/llama_data.json\"\n",
    "# data_url = \"https://api.github.com/repos/SCIR-HI/Huatuo-Llama-Med-Chinese/contents/data/llama_data.json\"\n",
    "data_base_path = \"data\"\n",
    "file_path = f\"{data_base_path}/llama_data.json\"\n",
    "\n",
    "if not os.path.exists(data_base_path):\n",
    "    os.makedirs(data_base_path)\n",
    "headers = {'User-Agent': 'Mozilla/5.0 (Windows NT 10.0; Win64; x64) AppleWebKit/537.36 (KHTML, like Gecko)'\n",
    "                         'Chrome/112.0.0.0 Safari/537.36'}\n",
    "                    \n",
    "response = requests.get(data_url, headers=headers,verify=False)\n",
    "with open(file_path, \"wb\") as f:\n",
    "\n",
    "    content_text = response.text\n",
    "    content_type = response.headers.get(\"Content-Type\")\n",
    "\n",
    "    # print(f\"text:\\n{content_text}\")\n",
    "    # print(f\"状态码为: {response.status_code}\")\n",
    "\n",
    "    f.write(response.content)\n",
    "    f.flush()\n",
    "    f.close()"
   ],
   "id": "9b913e6a10246dd",
   "outputs": [
    {
     "name": "stderr",
     "output_type": "stream",
     "text": [
      "D:\\working\\mycode\\bloom_med_lora\\venv\\Lib\\site-packages\\urllib3\\connectionpool.py:1103: InsecureRequestWarning: Unverified HTTPS request is being made to host 'raw.githubusercontent.com'. Adding certificate verification is strongly advised. See: https://urllib3.readthedocs.io/en/latest/advanced-usage.html#tls-warnings\n",
      "  warnings.warn(\n"
     ]
    }
   ],
   "execution_count": 14
  },
  {
   "metadata": {},
   "cell_type": "markdown",
   "source": "# 获取模型 lora 支持扩展层",
   "id": "62a1c092d608d9ca"
  },
  {
   "metadata": {
    "ExecuteTime": {
     "end_time": "2024-05-04T04:16:11.273371Z",
     "start_time": "2024-05-04T04:16:09.611864Z"
    }
   },
   "cell_type": "code",
   "source": [
    "import torch\n",
    "from transformers import Conv1D, AutoModelForCausalLM\n",
    "\n",
    "\n",
    "def get_specific_layer_names(model):\n",
    "    # Create a list to store the layer names\n",
    "    layer_names = []\n",
    "\n",
    "    # Recursively visit all modules and submodules\n",
    "    for name, module in model.named_modules():\n",
    "        # Check if the module is an instance of the specified layers\n",
    "        if isinstance(module, (torch.nn.Linear, torch.nn.Embedding, torch.nn.Conv2d, Conv1D)):\n",
    "            # model name parsing\n",
    "\n",
    "            layer_names.append('.'.join(name.split('.')[4:]).split('.')[0])\n",
    "\n",
    "    return layer_names\n",
    "\n",
    "model = AutoModelForCausalLM.from_pretrained(\"model/langboat/bloom-800m-zh\",\n",
    "                                             low_cpu_mem_usage=True,\n",
    "                                             torch_dtype=torch.half,\n",
    "                                             device_map=\"cuda\")\n",
    "print(list(set(get_specific_layer_names(model))))"
   ],
   "id": "4952812314aa29eb",
   "outputs": [
    {
     "name": "stdout",
     "output_type": "stream",
     "text": [
      "['', 'dense', 'dense_h_to_4h', 'query_key_value', 'dense_4h_to_h']\n"
     ]
    }
   ],
   "execution_count": 10
  },
  {
   "metadata": {},
   "cell_type": "markdown",
   "source": "# 测试发布模型",
   "id": "fac125796a9fb6d5"
  },
  {
   "metadata": {},
   "cell_type": "code",
   "outputs": [
    {
     "name": "stderr",
     "output_type": "stream",
     "text": [
      "2024-05-04 12:22:39,956 - modelscope - WARNING - Model revision should be specified from revisions: [v0.0.5,v0.0.4,0.0.1,v0.0.3,v0.0.2,v0.0.1]\n",
      "2024-05-04 12:22:39,958 - modelscope - WARNING - Model revision not specified, use revision: master\n",
      "Truncation was not explicitly activated but `max_length` is provided a specific value, please use `truncation=True` to explicitly truncate examples to max length. Defaulting to 'longest_first' truncation strategy. If you encode pairs of sequences (GLUE-style) with the tokenizer you can select this strategy more precisely by providing a specific strategy to `truncation`.\n"
     ]
    },
    {
     "name": "stdout",
     "output_type": "stream",
     "text": [
      "[{'generated_text': 'Human: 关节部位红肿疼痛，排尿困难,怎么办？\\n\\nAssistant: 考虑风湿热引起，治疗首选甲泼尼龙、人血白蛋白等治疗方案，并进行肾功能和电解质等辅助检查。辅助检查可用腹壁肌电图。'}]\n"
     ]
    }
   ],
   "execution_count": 14,
   "source": [
    "from modelscope.hub.snapshot_download import snapshot_download\n",
    "# https://www.modelscope.cn/models/dafei1288/Jimmy_Med/summary\n",
    "model_dir = snapshot_download('dafei1288/Jimmy_Med', cache_dir='model')\n",
    "\n",
    "\n",
    "from transformers import pipeline,AutoTokenizer,AutoModelForCausalLM\n",
    "import torch\n",
    "\n",
    "retokenizer = AutoTokenizer.from_pretrained(\"model/dafei1288/Jimmy_Med\")\n",
    "remodel = AutoModelForCausalLM.from_pretrained(\"model/dafei1288/Jimmy_Med\", \n",
    "                                             low_cpu_mem_usage=True,\n",
    "                                             torch_dtype=torch.half,\n",
    "                                             device_map=\"cuda\")\n",
    "repipe = pipeline(\"text-generation\", model=remodel, tokenizer=retokenizer ,truncation=True)\n",
    "\n",
    "ipt = \"Human: {}\\n{}\".format(\"关节部位红肿疼痛，排尿困难,怎么办？\", \"\").strip() + \"\\n\\nAssistant: \"\n",
    "print(repipe(ipt, max_length=400, do_sample=True, ))"
   ],
   "id": "ba7ecf96a6afd98f"
  }
 ],
 "metadata": {
  "kernelspec": {
   "display_name": "Python 3",
   "language": "python",
   "name": "python3"
  },
  "language_info": {
   "codemirror_mode": {
    "name": "ipython",
    "version": 2
   },
   "file_extension": ".py",
   "mimetype": "text/x-python",
   "name": "python",
   "nbconvert_exporter": "python",
   "pygments_lexer": "ipython2",
   "version": "2.7.6"
  }
 },
 "nbformat": 4,
 "nbformat_minor": 5
}
