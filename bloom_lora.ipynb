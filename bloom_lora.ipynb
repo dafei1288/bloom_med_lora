{
 "cells": [
  {
   "cell_type": "markdown",
   "metadata": {},
   "source": "# Bloom基于LoRA微调实战"
  },
  {
   "cell_type": "markdown",
   "metadata": {},
   "source": [
    "## Step1 导入相关包"
   ]
  },
  {
   "cell_type": "code",
   "metadata": {
    "tags": [],
    "ExecuteTime": {
     "end_time": "2024-05-03T12:46:03.743912Z",
     "start_time": "2024-05-03T12:46:01.119047Z"
    }
   },
   "source": [
    "from datasets import Dataset\n",
    "from transformers import AutoTokenizer, AutoModelForCausalLM, DataCollatorForSeq2Seq, TrainingArguments, Trainer\n",
    "from transformers import DataCollatorWithPadding\n",
    "import json\n",
    "\n",
    "\n",
    "# https://pytorch.org/\n",
    "# pip install lib/bitsandbytes-0.40.1.post1-py3-none-win_amd64.whl"
   ],
   "outputs": [],
   "execution_count": 1
  },
  {
   "cell_type": "markdown",
   "metadata": {},
   "source": [
    "## Step2 加载数据集"
   ]
  },
  {
   "cell_type": "code",
   "metadata": {
    "tags": [],
    "ExecuteTime": {
     "end_time": "2024-05-03T12:46:05.803990Z",
     "start_time": "2024-05-03T12:46:05.783129Z"
    }
   },
   "source": [
    "def load_instruction(instruct_dir):\n",
    "    input_data = []\n",
    "    with open(instruct_dir, \"r\",encoding=\"utf-8\") as f:\n",
    "        lines = f.readlines()\n",
    "        for line in lines:\n",
    "            line = line.strip()\n",
    "            d = json.loads(line)\n",
    "            input_data.append(d)\n",
    "    return input_data\n",
    "ds = load_instruction(\"./data/llama_data.json\")"
   ],
   "outputs": [],
   "execution_count": 2
  },
  {
   "cell_type": "code",
   "metadata": {
    "tags": [],
    "ExecuteTime": {
     "end_time": "2024-05-03T12:46:08.215727Z",
     "start_time": "2024-05-03T12:46:08.211385Z"
    }
   },
   "source": [
    "ds[:3]"
   ],
   "outputs": [
    {
     "data": {
      "text/plain": [
       "[{'instruction': '一名年龄在70岁的女性，出现了晕厥、不自主颤抖、情绪不稳等症状，请详细说明其手术治疗和术前准备。',\n",
       "  'input': '',\n",
       "  'output': '该病需要进行电极导线、脉冲发生器和永久心脏起搏器置入术，并需要使用镇静药物和局麻对病人进行手术治疗。术前准备包括1-3天的时间进行术前检查和生活方式的调整。'},\n",
       " {'instruction': '一个患者的卵巢小细胞癌转移至其它部位，是否有必要进行手术治疗？',\n",
       "  'input': '',\n",
       "  'output': '当卵巢小细胞癌转移至其它部位时，手术治疗的效果可能不理想，因此一般不推荐进行手术治疗。针对转移病灶，可以采用化疗、放疗等治疗手段进行综合治疗。'},\n",
       " {'instruction': '一位60岁男性患者由于肝动脉瘤出现肝功能异常，具体表现为黄疸，该如何诊治？',\n",
       "  'input': '',\n",
       "  'output': '该患者可能出现了肝动脉瘤并发症之一的梗阻性黄疸，需要进行腹部平片、彩色多普勒超声、CTA、动脉造影等检查后确定诊断，治疗方面应按照病因治疗，如若为肝动脉炎、动脉粥样硬化等病因，应该采取手术治疗，而若是单纯的肝动脉瘤，可以进行介入治疗或手术治疗。'}]"
      ]
     },
     "execution_count": 3,
     "metadata": {},
     "output_type": "execute_result"
    }
   ],
   "execution_count": 3
  },
  {
   "cell_type": "markdown",
   "metadata": {},
   "source": [
    "## Step3 数据集预处理"
   ]
  },
  {
   "cell_type": "code",
   "metadata": {
    "tags": [],
    "ExecuteTime": {
     "end_time": "2024-05-03T12:46:11.018769Z",
     "start_time": "2024-05-03T12:46:10.960178Z"
    }
   },
   "source": [
    "tokenizer = AutoTokenizer.from_pretrained(\"model/langboat/bloom-800m-zh\")\n",
    "\n",
    "tokenizer"
   ],
   "outputs": [
    {
     "data": {
      "text/plain": [
       "BloomTokenizerFast(name_or_path='model/langboat/bloom-800m-zh', vocab_size=46145, model_max_length=1000000000000000019884624838656, is_fast=True, padding_side='left', truncation_side='right', special_tokens={'bos_token': '<s>', 'eos_token': '</s>', 'unk_token': '<unk>', 'pad_token': '<pad>'}, clean_up_tokenization_spaces=False),  added_tokens_decoder={\n",
       "\t0: AddedToken(\"<unk>\", rstrip=False, lstrip=False, single_word=False, normalized=False, special=True),\n",
       "\t1: AddedToken(\"<s>\", rstrip=False, lstrip=False, single_word=False, normalized=False, special=True),\n",
       "\t2: AddedToken(\"</s>\", rstrip=False, lstrip=False, single_word=False, normalized=False, special=True),\n",
       "\t3: AddedToken(\"<pad>\", rstrip=False, lstrip=False, single_word=False, normalized=False, special=True),\n",
       "}"
      ]
     },
     "execution_count": 4,
     "metadata": {},
     "output_type": "execute_result"
    }
   ],
   "execution_count": 4
  },
  {
   "cell_type": "code",
   "metadata": {
    "tags": [],
    "ExecuteTime": {
     "end_time": "2024-05-03T12:46:13.180127Z",
     "start_time": "2024-05-03T12:46:13.177960Z"
    }
   },
   "source": [
    "tokenizer.padding_side = \"right\""
   ],
   "outputs": [],
   "execution_count": 5
  },
  {
   "cell_type": "code",
   "metadata": {
    "tags": [],
    "ExecuteTime": {
     "end_time": "2024-05-03T12:46:15.516930Z",
     "start_time": "2024-05-03T12:46:15.514393Z"
    }
   },
   "source": [
    "tokenizer.pad_token_id = 2"
   ],
   "outputs": [],
   "execution_count": 6
  },
  {
   "cell_type": "code",
   "metadata": {
    "tags": [],
    "ExecuteTime": {
     "end_time": "2024-05-03T12:46:17.112335Z",
     "start_time": "2024-05-03T12:46:17.107928Z"
    }
   },
   "source": [
    "def process_func(example):\n",
    "    MAX_LENGTH = 400\n",
    "    input_ids, attention_mask, labels = [], [], []\n",
    "    instruction = tokenizer(\"\\n\".join([\"Human: \" + example[\"instruction\"], example[\"input\"]]).strip() + \"\\n\\nAssistant: \", add_special_tokens=False)\n",
    "    response = tokenizer(example[\"output\"], add_special_tokens=False)\n",
    "    input_ids = instruction[\"input_ids\"] + response[\"input_ids\"] + [tokenizer.eos_token_id]\n",
    "    attention_mask = instruction[\"attention_mask\"] + response[\"attention_mask\"] + [1]\n",
    "    labels = [-100] * len(instruction[\"input_ids\"]) + response[\"input_ids\"] + [tokenizer.eos_token_id]\n",
    "    if len(input_ids) > MAX_LENGTH:\n",
    "        input_ids = input_ids[:MAX_LENGTH]\n",
    "        attention_mask = attention_mask[:MAX_LENGTH]\n",
    "        labels = labels[:MAX_LENGTH]\n",
    "    return {\n",
    "        \"input_ids\": input_ids,\n",
    "        \"attention_mask\": attention_mask,\n",
    "        \"labels\": labels\n",
    "    }"
   ],
   "outputs": [],
   "execution_count": 7
  },
  {
   "metadata": {
    "ExecuteTime": {
     "end_time": "2024-05-03T12:46:19.919197Z",
     "start_time": "2024-05-03T12:46:19.915399Z"
    }
   },
   "cell_type": "code",
   "source": [
    "data_collator = DataCollatorWithPadding(tokenizer=tokenizer)\n",
    "data_collator"
   ],
   "outputs": [
    {
     "data": {
      "text/plain": [
       "DataCollatorWithPadding(tokenizer=BloomTokenizerFast(name_or_path='model/langboat/bloom-800m-zh', vocab_size=46145, model_max_length=1000000000000000019884624838656, is_fast=True, padding_side='right', truncation_side='right', special_tokens={'bos_token': '<s>', 'eos_token': '</s>', 'unk_token': '<unk>', 'pad_token': '</s>'}, clean_up_tokenization_spaces=False),  added_tokens_decoder={\n",
       "\t0: AddedToken(\"<unk>\", rstrip=False, lstrip=False, single_word=False, normalized=False, special=True),\n",
       "\t1: AddedToken(\"<s>\", rstrip=False, lstrip=False, single_word=False, normalized=False, special=True),\n",
       "\t2: AddedToken(\"</s>\", rstrip=False, lstrip=False, single_word=False, normalized=False, special=True),\n",
       "\t3: AddedToken(\"<pad>\", rstrip=False, lstrip=False, single_word=False, normalized=False, special=True),\n",
       "}, padding=True, max_length=None, pad_to_multiple_of=None, return_tensors='pt')"
      ]
     },
     "execution_count": 8,
     "metadata": {},
     "output_type": "execute_result"
    }
   ],
   "execution_count": 8
  },
  {
   "cell_type": "code",
   "metadata": {
    "tags": [],
    "ExecuteTime": {
     "end_time": "2024-05-03T12:46:23.258619Z",
     "start_time": "2024-05-03T12:46:22.238131Z"
    }
   },
   "source": [
    "# tokenized_ds = ds.map(process_func, remove_columns=ds.column_names)\n",
    "# tokenized_ds\n",
    "tokenized_ds = []\n",
    "for row in ds:\n",
    "    tokenized_ds.append(process_func(row))"
   ],
   "outputs": [],
   "execution_count": 9
  },
  {
   "cell_type": "code",
   "metadata": {
    "tags": [],
    "ExecuteTime": {
     "end_time": "2024-05-03T12:46:24.836088Z",
     "start_time": "2024-05-03T12:46:24.832896Z"
    }
   },
   "source": [
    "print(tokenized_ds[0][\"input_ids\"])"
   ],
   "outputs": [
    {
     "name": "stdout",
     "output_type": "stream",
     "text": [
      "[26283, 29, 7595, 1228, 12264, 587, 2342, 16599, 6883, 355, 17803, 20474, 19255, 554, 643, 17430, 37788, 24406, 554, 18871, 643, 7058, 42254, 355, 2680, 11518, 6428, 936, 13193, 6623, 642, 2629, 1230, 7256, 672, 189, 4340, 17245, 29, 210, 1811, 2453, 43817, 1936, 3889, 2728, 2665, 554, 41385, 4766, 33201, 14095, 19477, 1533, 23431, 2339, 2884, 1359, 2629, 355, 1437, 2732, 2527, 4233, 7963, 10847, 642, 2460, 6125, 1079, 15003, 2557, 13193, 6623, 420, 2629, 1230, 7256, 2542, 33456, 1317, 11408, 2557, 2629, 1230, 8116, 642, 34118, 373, 9734, 420, 2]\n"
     ]
    }
   ],
   "execution_count": 10
  },
  {
   "cell_type": "code",
   "metadata": {
    "tags": [],
    "ExecuteTime": {
     "end_time": "2024-05-03T12:46:27.320436Z",
     "start_time": "2024-05-03T12:46:27.317282Z"
    }
   },
   "source": [
    "tokenizer.decode(list(filter(lambda x: x != -100, tokenized_ds[1][\"labels\"])))"
   ],
   "outputs": [
    {
     "data": {
      "text/plain": [
       "'当卵巢小细胞癌转移至其它部位时，手术治疗的效果可能不理想，因此一般不推荐进行手术治疗。针对转移病灶，可以采用化疗、放疗等治疗手段进行综合治疗。</s>'"
      ]
     },
     "execution_count": 11,
     "metadata": {},
     "output_type": "execute_result"
    }
   ],
   "execution_count": 11
  },
  {
   "cell_type": "markdown",
   "metadata": {},
   "source": [
    "## Step4 创建模型"
   ]
  },
  {
   "cell_type": "code",
   "metadata": {
    "tags": [],
    "ExecuteTime": {
     "end_time": "2024-05-03T12:46:30.825182Z",
     "start_time": "2024-05-03T12:46:29.519306Z"
    }
   },
   "source": [
    "import torch\n",
    "\n",
    "print(torch.cuda.is_available())\n",
    "\n",
    "model = AutoModelForCausalLM.from_pretrained(\"model/langboat/bloom-800m-zh\", \n",
    "                                             low_cpu_mem_usage=True,\n",
    "                                             torch_dtype=torch.half,\n",
    "                                             device_map=\"cuda\")\n"
   ],
   "outputs": [
    {
     "name": "stdout",
     "output_type": "stream",
     "text": [
      "True\n"
     ]
    }
   ],
   "execution_count": 12
  },
  {
   "cell_type": "code",
   "metadata": {
    "tags": [],
    "ExecuteTime": {
     "end_time": "2024-05-03T12:46:34.240407Z",
     "start_time": "2024-05-03T12:46:34.237845Z"
    }
   },
   "source": [
    "model.dtype"
   ],
   "outputs": [
    {
     "data": {
      "text/plain": [
       "torch.float16"
      ]
     },
     "execution_count": 13,
     "metadata": {},
     "output_type": "execute_result"
    }
   ],
   "execution_count": 13
  },
  {
   "cell_type": "markdown",
   "metadata": {},
   "source": [
    "## Lora"
   ]
  },
  {
   "cell_type": "markdown",
   "metadata": {},
   "source": [
    "### PEFT Step1 配置文件"
   ]
  },
  {
   "cell_type": "code",
   "metadata": {
    "tags": [],
    "ExecuteTime": {
     "end_time": "2024-05-03T12:46:41.440380Z",
     "start_time": "2024-05-03T12:46:41.436414Z"
    }
   },
   "source": [
    "from peft import LoraConfig, TaskType, get_peft_model\n",
    "\n",
    "config = LoraConfig(\n",
    "                task_type=TaskType.CAUSAL_LM,\n",
    "                r=8,\n",
    "                target_modules=['query_key_value','dense_4h_to_h']\n",
    "                )\n",
    "config"
   ],
   "outputs": [
    {
     "data": {
      "text/plain": [
       "LoraConfig(peft_type=<PeftType.LORA: 'LORA'>, auto_mapping=None, base_model_name_or_path=None, revision=None, task_type=<TaskType.CAUSAL_LM: 'CAUSAL_LM'>, inference_mode=False, r=8, target_modules={'dense_4h_to_h', 'query_key_value'}, lora_alpha=8, lora_dropout=0.0, fan_in_fan_out=False, bias='none', use_rslora=False, modules_to_save=None, init_lora_weights=True, layers_to_transform=None, layers_pattern=None, rank_pattern={}, alpha_pattern={}, megatron_config=None, megatron_core='megatron.core', loftq_config={}, use_dora=False, layer_replication=None)"
      ]
     },
     "execution_count": 14,
     "metadata": {},
     "output_type": "execute_result"
    }
   ],
   "execution_count": 14
  },
  {
   "cell_type": "markdown",
   "metadata": {},
   "source": [
    "### PEFT Step2 创建模型"
   ]
  },
  {
   "cell_type": "code",
   "metadata": {
    "tags": [],
    "ExecuteTime": {
     "end_time": "2024-05-03T12:46:46.279217Z",
     "start_time": "2024-05-03T12:46:46.034980Z"
    }
   },
   "source": [
    "model = get_peft_model(model, config)"
   ],
   "outputs": [],
   "execution_count": 15
  },
  {
   "cell_type": "code",
   "metadata": {
    "tags": [],
    "ExecuteTime": {
     "end_time": "2024-05-03T12:46:47.734496Z",
     "start_time": "2024-05-03T12:46:47.730268Z"
    }
   },
   "source": [
    "config"
   ],
   "outputs": [
    {
     "data": {
      "text/plain": [
       "LoraConfig(peft_type=<PeftType.LORA: 'LORA'>, auto_mapping=None, base_model_name_or_path='model/langboat/bloom-800m-zh', revision=None, task_type=<TaskType.CAUSAL_LM: 'CAUSAL_LM'>, inference_mode=False, r=8, target_modules={'dense_4h_to_h', 'query_key_value'}, lora_alpha=8, lora_dropout=0.0, fan_in_fan_out=False, bias='none', use_rslora=False, modules_to_save=None, init_lora_weights=True, layers_to_transform=None, layers_pattern=None, rank_pattern={}, alpha_pattern={}, megatron_config=None, megatron_core='megatron.core', loftq_config={}, use_dora=False, layer_replication=None)"
      ]
     },
     "execution_count": 16,
     "metadata": {},
     "output_type": "execute_result"
    }
   ],
   "execution_count": 16
  },
  {
   "cell_type": "code",
   "metadata": {
    "tags": [],
    "ExecuteTime": {
     "end_time": "2024-05-03T12:46:49.971914Z",
     "start_time": "2024-05-03T12:46:49.968521Z"
    }
   },
   "source": [
    "model.print_trainable_parameters()"
   ],
   "outputs": [
    {
     "name": "stdout",
     "output_type": "stream",
     "text": [
      "trainable params: 2,654,208 || all params: 753,495,552 || trainable%: 0.3522526434237\n"
     ]
    }
   ],
   "execution_count": 17
  },
  {
   "cell_type": "code",
   "metadata": {
    "collapsed": true,
    "jupyter": {
     "outputs_hidden": true
    },
    "tags": [],
    "ExecuteTime": {
     "end_time": "2024-05-03T12:46:52.045015Z",
     "start_time": "2024-05-03T12:46:52.039010Z"
    }
   },
   "source": [
    "for name, param in model.named_parameters():\n",
    "    print(name, param.shape, param.dtype)"
   ],
   "outputs": [
    {
     "name": "stdout",
     "output_type": "stream",
     "text": [
      "base_model.model.transformer.word_embeddings.weight torch.Size([46145, 1536]) torch.float16\n",
      "base_model.model.transformer.word_embeddings_layernorm.weight torch.Size([1536]) torch.float16\n",
      "base_model.model.transformer.word_embeddings_layernorm.bias torch.Size([1536]) torch.float16\n",
      "base_model.model.transformer.h.0.input_layernorm.weight torch.Size([1536]) torch.float16\n",
      "base_model.model.transformer.h.0.input_layernorm.bias torch.Size([1536]) torch.float16\n",
      "base_model.model.transformer.h.0.self_attention.query_key_value.base_layer.weight torch.Size([4608, 1536]) torch.float16\n",
      "base_model.model.transformer.h.0.self_attention.query_key_value.base_layer.bias torch.Size([4608]) torch.float16\n",
      "base_model.model.transformer.h.0.self_attention.query_key_value.lora_A.default.weight torch.Size([8, 1536]) torch.float16\n",
      "base_model.model.transformer.h.0.self_attention.query_key_value.lora_B.default.weight torch.Size([4608, 8]) torch.float16\n",
      "base_model.model.transformer.h.0.self_attention.dense.weight torch.Size([1536, 1536]) torch.float16\n",
      "base_model.model.transformer.h.0.self_attention.dense.bias torch.Size([1536]) torch.float16\n",
      "base_model.model.transformer.h.0.post_attention_layernorm.weight torch.Size([1536]) torch.float16\n",
      "base_model.model.transformer.h.0.post_attention_layernorm.bias torch.Size([1536]) torch.float16\n",
      "base_model.model.transformer.h.0.mlp.dense_h_to_4h.weight torch.Size([6144, 1536]) torch.float16\n",
      "base_model.model.transformer.h.0.mlp.dense_h_to_4h.bias torch.Size([6144]) torch.float16\n",
      "base_model.model.transformer.h.0.mlp.dense_4h_to_h.base_layer.weight torch.Size([1536, 6144]) torch.float16\n",
      "base_model.model.transformer.h.0.mlp.dense_4h_to_h.base_layer.bias torch.Size([1536]) torch.float16\n",
      "base_model.model.transformer.h.0.mlp.dense_4h_to_h.lora_A.default.weight torch.Size([8, 6144]) torch.float16\n",
      "base_model.model.transformer.h.0.mlp.dense_4h_to_h.lora_B.default.weight torch.Size([1536, 8]) torch.float16\n",
      "base_model.model.transformer.h.1.input_layernorm.weight torch.Size([1536]) torch.float16\n",
      "base_model.model.transformer.h.1.input_layernorm.bias torch.Size([1536]) torch.float16\n",
      "base_model.model.transformer.h.1.self_attention.query_key_value.base_layer.weight torch.Size([4608, 1536]) torch.float16\n",
      "base_model.model.transformer.h.1.self_attention.query_key_value.base_layer.bias torch.Size([4608]) torch.float16\n",
      "base_model.model.transformer.h.1.self_attention.query_key_value.lora_A.default.weight torch.Size([8, 1536]) torch.float16\n",
      "base_model.model.transformer.h.1.self_attention.query_key_value.lora_B.default.weight torch.Size([4608, 8]) torch.float16\n",
      "base_model.model.transformer.h.1.self_attention.dense.weight torch.Size([1536, 1536]) torch.float16\n",
      "base_model.model.transformer.h.1.self_attention.dense.bias torch.Size([1536]) torch.float16\n",
      "base_model.model.transformer.h.1.post_attention_layernorm.weight torch.Size([1536]) torch.float16\n",
      "base_model.model.transformer.h.1.post_attention_layernorm.bias torch.Size([1536]) torch.float16\n",
      "base_model.model.transformer.h.1.mlp.dense_h_to_4h.weight torch.Size([6144, 1536]) torch.float16\n",
      "base_model.model.transformer.h.1.mlp.dense_h_to_4h.bias torch.Size([6144]) torch.float16\n",
      "base_model.model.transformer.h.1.mlp.dense_4h_to_h.base_layer.weight torch.Size([1536, 6144]) torch.float16\n",
      "base_model.model.transformer.h.1.mlp.dense_4h_to_h.base_layer.bias torch.Size([1536]) torch.float16\n",
      "base_model.model.transformer.h.1.mlp.dense_4h_to_h.lora_A.default.weight torch.Size([8, 6144]) torch.float16\n",
      "base_model.model.transformer.h.1.mlp.dense_4h_to_h.lora_B.default.weight torch.Size([1536, 8]) torch.float16\n",
      "base_model.model.transformer.h.2.input_layernorm.weight torch.Size([1536]) torch.float16\n",
      "base_model.model.transformer.h.2.input_layernorm.bias torch.Size([1536]) torch.float16\n",
      "base_model.model.transformer.h.2.self_attention.query_key_value.base_layer.weight torch.Size([4608, 1536]) torch.float16\n",
      "base_model.model.transformer.h.2.self_attention.query_key_value.base_layer.bias torch.Size([4608]) torch.float16\n",
      "base_model.model.transformer.h.2.self_attention.query_key_value.lora_A.default.weight torch.Size([8, 1536]) torch.float16\n",
      "base_model.model.transformer.h.2.self_attention.query_key_value.lora_B.default.weight torch.Size([4608, 8]) torch.float16\n",
      "base_model.model.transformer.h.2.self_attention.dense.weight torch.Size([1536, 1536]) torch.float16\n",
      "base_model.model.transformer.h.2.self_attention.dense.bias torch.Size([1536]) torch.float16\n",
      "base_model.model.transformer.h.2.post_attention_layernorm.weight torch.Size([1536]) torch.float16\n",
      "base_model.model.transformer.h.2.post_attention_layernorm.bias torch.Size([1536]) torch.float16\n",
      "base_model.model.transformer.h.2.mlp.dense_h_to_4h.weight torch.Size([6144, 1536]) torch.float16\n",
      "base_model.model.transformer.h.2.mlp.dense_h_to_4h.bias torch.Size([6144]) torch.float16\n",
      "base_model.model.transformer.h.2.mlp.dense_4h_to_h.base_layer.weight torch.Size([1536, 6144]) torch.float16\n",
      "base_model.model.transformer.h.2.mlp.dense_4h_to_h.base_layer.bias torch.Size([1536]) torch.float16\n",
      "base_model.model.transformer.h.2.mlp.dense_4h_to_h.lora_A.default.weight torch.Size([8, 6144]) torch.float16\n",
      "base_model.model.transformer.h.2.mlp.dense_4h_to_h.lora_B.default.weight torch.Size([1536, 8]) torch.float16\n",
      "base_model.model.transformer.h.3.input_layernorm.weight torch.Size([1536]) torch.float16\n",
      "base_model.model.transformer.h.3.input_layernorm.bias torch.Size([1536]) torch.float16\n",
      "base_model.model.transformer.h.3.self_attention.query_key_value.base_layer.weight torch.Size([4608, 1536]) torch.float16\n",
      "base_model.model.transformer.h.3.self_attention.query_key_value.base_layer.bias torch.Size([4608]) torch.float16\n",
      "base_model.model.transformer.h.3.self_attention.query_key_value.lora_A.default.weight torch.Size([8, 1536]) torch.float16\n",
      "base_model.model.transformer.h.3.self_attention.query_key_value.lora_B.default.weight torch.Size([4608, 8]) torch.float16\n",
      "base_model.model.transformer.h.3.self_attention.dense.weight torch.Size([1536, 1536]) torch.float16\n",
      "base_model.model.transformer.h.3.self_attention.dense.bias torch.Size([1536]) torch.float16\n",
      "base_model.model.transformer.h.3.post_attention_layernorm.weight torch.Size([1536]) torch.float16\n",
      "base_model.model.transformer.h.3.post_attention_layernorm.bias torch.Size([1536]) torch.float16\n",
      "base_model.model.transformer.h.3.mlp.dense_h_to_4h.weight torch.Size([6144, 1536]) torch.float16\n",
      "base_model.model.transformer.h.3.mlp.dense_h_to_4h.bias torch.Size([6144]) torch.float16\n",
      "base_model.model.transformer.h.3.mlp.dense_4h_to_h.base_layer.weight torch.Size([1536, 6144]) torch.float16\n",
      "base_model.model.transformer.h.3.mlp.dense_4h_to_h.base_layer.bias torch.Size([1536]) torch.float16\n",
      "base_model.model.transformer.h.3.mlp.dense_4h_to_h.lora_A.default.weight torch.Size([8, 6144]) torch.float16\n",
      "base_model.model.transformer.h.3.mlp.dense_4h_to_h.lora_B.default.weight torch.Size([1536, 8]) torch.float16\n",
      "base_model.model.transformer.h.4.input_layernorm.weight torch.Size([1536]) torch.float16\n",
      "base_model.model.transformer.h.4.input_layernorm.bias torch.Size([1536]) torch.float16\n",
      "base_model.model.transformer.h.4.self_attention.query_key_value.base_layer.weight torch.Size([4608, 1536]) torch.float16\n",
      "base_model.model.transformer.h.4.self_attention.query_key_value.base_layer.bias torch.Size([4608]) torch.float16\n",
      "base_model.model.transformer.h.4.self_attention.query_key_value.lora_A.default.weight torch.Size([8, 1536]) torch.float16\n",
      "base_model.model.transformer.h.4.self_attention.query_key_value.lora_B.default.weight torch.Size([4608, 8]) torch.float16\n",
      "base_model.model.transformer.h.4.self_attention.dense.weight torch.Size([1536, 1536]) torch.float16\n",
      "base_model.model.transformer.h.4.self_attention.dense.bias torch.Size([1536]) torch.float16\n",
      "base_model.model.transformer.h.4.post_attention_layernorm.weight torch.Size([1536]) torch.float16\n",
      "base_model.model.transformer.h.4.post_attention_layernorm.bias torch.Size([1536]) torch.float16\n",
      "base_model.model.transformer.h.4.mlp.dense_h_to_4h.weight torch.Size([6144, 1536]) torch.float16\n",
      "base_model.model.transformer.h.4.mlp.dense_h_to_4h.bias torch.Size([6144]) torch.float16\n",
      "base_model.model.transformer.h.4.mlp.dense_4h_to_h.base_layer.weight torch.Size([1536, 6144]) torch.float16\n",
      "base_model.model.transformer.h.4.mlp.dense_4h_to_h.base_layer.bias torch.Size([1536]) torch.float16\n",
      "base_model.model.transformer.h.4.mlp.dense_4h_to_h.lora_A.default.weight torch.Size([8, 6144]) torch.float16\n",
      "base_model.model.transformer.h.4.mlp.dense_4h_to_h.lora_B.default.weight torch.Size([1536, 8]) torch.float16\n",
      "base_model.model.transformer.h.5.input_layernorm.weight torch.Size([1536]) torch.float16\n",
      "base_model.model.transformer.h.5.input_layernorm.bias torch.Size([1536]) torch.float16\n",
      "base_model.model.transformer.h.5.self_attention.query_key_value.base_layer.weight torch.Size([4608, 1536]) torch.float16\n",
      "base_model.model.transformer.h.5.self_attention.query_key_value.base_layer.bias torch.Size([4608]) torch.float16\n",
      "base_model.model.transformer.h.5.self_attention.query_key_value.lora_A.default.weight torch.Size([8, 1536]) torch.float16\n",
      "base_model.model.transformer.h.5.self_attention.query_key_value.lora_B.default.weight torch.Size([4608, 8]) torch.float16\n",
      "base_model.model.transformer.h.5.self_attention.dense.weight torch.Size([1536, 1536]) torch.float16\n",
      "base_model.model.transformer.h.5.self_attention.dense.bias torch.Size([1536]) torch.float16\n",
      "base_model.model.transformer.h.5.post_attention_layernorm.weight torch.Size([1536]) torch.float16\n",
      "base_model.model.transformer.h.5.post_attention_layernorm.bias torch.Size([1536]) torch.float16\n",
      "base_model.model.transformer.h.5.mlp.dense_h_to_4h.weight torch.Size([6144, 1536]) torch.float16\n",
      "base_model.model.transformer.h.5.mlp.dense_h_to_4h.bias torch.Size([6144]) torch.float16\n",
      "base_model.model.transformer.h.5.mlp.dense_4h_to_h.base_layer.weight torch.Size([1536, 6144]) torch.float16\n",
      "base_model.model.transformer.h.5.mlp.dense_4h_to_h.base_layer.bias torch.Size([1536]) torch.float16\n",
      "base_model.model.transformer.h.5.mlp.dense_4h_to_h.lora_A.default.weight torch.Size([8, 6144]) torch.float16\n",
      "base_model.model.transformer.h.5.mlp.dense_4h_to_h.lora_B.default.weight torch.Size([1536, 8]) torch.float16\n",
      "base_model.model.transformer.h.6.input_layernorm.weight torch.Size([1536]) torch.float16\n",
      "base_model.model.transformer.h.6.input_layernorm.bias torch.Size([1536]) torch.float16\n",
      "base_model.model.transformer.h.6.self_attention.query_key_value.base_layer.weight torch.Size([4608, 1536]) torch.float16\n",
      "base_model.model.transformer.h.6.self_attention.query_key_value.base_layer.bias torch.Size([4608]) torch.float16\n",
      "base_model.model.transformer.h.6.self_attention.query_key_value.lora_A.default.weight torch.Size([8, 1536]) torch.float16\n",
      "base_model.model.transformer.h.6.self_attention.query_key_value.lora_B.default.weight torch.Size([4608, 8]) torch.float16\n",
      "base_model.model.transformer.h.6.self_attention.dense.weight torch.Size([1536, 1536]) torch.float16\n",
      "base_model.model.transformer.h.6.self_attention.dense.bias torch.Size([1536]) torch.float16\n",
      "base_model.model.transformer.h.6.post_attention_layernorm.weight torch.Size([1536]) torch.float16\n",
      "base_model.model.transformer.h.6.post_attention_layernorm.bias torch.Size([1536]) torch.float16\n",
      "base_model.model.transformer.h.6.mlp.dense_h_to_4h.weight torch.Size([6144, 1536]) torch.float16\n",
      "base_model.model.transformer.h.6.mlp.dense_h_to_4h.bias torch.Size([6144]) torch.float16\n",
      "base_model.model.transformer.h.6.mlp.dense_4h_to_h.base_layer.weight torch.Size([1536, 6144]) torch.float16\n",
      "base_model.model.transformer.h.6.mlp.dense_4h_to_h.base_layer.bias torch.Size([1536]) torch.float16\n",
      "base_model.model.transformer.h.6.mlp.dense_4h_to_h.lora_A.default.weight torch.Size([8, 6144]) torch.float16\n",
      "base_model.model.transformer.h.6.mlp.dense_4h_to_h.lora_B.default.weight torch.Size([1536, 8]) torch.float16\n",
      "base_model.model.transformer.h.7.input_layernorm.weight torch.Size([1536]) torch.float16\n",
      "base_model.model.transformer.h.7.input_layernorm.bias torch.Size([1536]) torch.float16\n",
      "base_model.model.transformer.h.7.self_attention.query_key_value.base_layer.weight torch.Size([4608, 1536]) torch.float16\n",
      "base_model.model.transformer.h.7.self_attention.query_key_value.base_layer.bias torch.Size([4608]) torch.float16\n",
      "base_model.model.transformer.h.7.self_attention.query_key_value.lora_A.default.weight torch.Size([8, 1536]) torch.float16\n",
      "base_model.model.transformer.h.7.self_attention.query_key_value.lora_B.default.weight torch.Size([4608, 8]) torch.float16\n",
      "base_model.model.transformer.h.7.self_attention.dense.weight torch.Size([1536, 1536]) torch.float16\n",
      "base_model.model.transformer.h.7.self_attention.dense.bias torch.Size([1536]) torch.float16\n",
      "base_model.model.transformer.h.7.post_attention_layernorm.weight torch.Size([1536]) torch.float16\n",
      "base_model.model.transformer.h.7.post_attention_layernorm.bias torch.Size([1536]) torch.float16\n",
      "base_model.model.transformer.h.7.mlp.dense_h_to_4h.weight torch.Size([6144, 1536]) torch.float16\n",
      "base_model.model.transformer.h.7.mlp.dense_h_to_4h.bias torch.Size([6144]) torch.float16\n",
      "base_model.model.transformer.h.7.mlp.dense_4h_to_h.base_layer.weight torch.Size([1536, 6144]) torch.float16\n",
      "base_model.model.transformer.h.7.mlp.dense_4h_to_h.base_layer.bias torch.Size([1536]) torch.float16\n",
      "base_model.model.transformer.h.7.mlp.dense_4h_to_h.lora_A.default.weight torch.Size([8, 6144]) torch.float16\n",
      "base_model.model.transformer.h.7.mlp.dense_4h_to_h.lora_B.default.weight torch.Size([1536, 8]) torch.float16\n",
      "base_model.model.transformer.h.8.input_layernorm.weight torch.Size([1536]) torch.float16\n",
      "base_model.model.transformer.h.8.input_layernorm.bias torch.Size([1536]) torch.float16\n",
      "base_model.model.transformer.h.8.self_attention.query_key_value.base_layer.weight torch.Size([4608, 1536]) torch.float16\n",
      "base_model.model.transformer.h.8.self_attention.query_key_value.base_layer.bias torch.Size([4608]) torch.float16\n",
      "base_model.model.transformer.h.8.self_attention.query_key_value.lora_A.default.weight torch.Size([8, 1536]) torch.float16\n",
      "base_model.model.transformer.h.8.self_attention.query_key_value.lora_B.default.weight torch.Size([4608, 8]) torch.float16\n",
      "base_model.model.transformer.h.8.self_attention.dense.weight torch.Size([1536, 1536]) torch.float16\n",
      "base_model.model.transformer.h.8.self_attention.dense.bias torch.Size([1536]) torch.float16\n",
      "base_model.model.transformer.h.8.post_attention_layernorm.weight torch.Size([1536]) torch.float16\n",
      "base_model.model.transformer.h.8.post_attention_layernorm.bias torch.Size([1536]) torch.float16\n",
      "base_model.model.transformer.h.8.mlp.dense_h_to_4h.weight torch.Size([6144, 1536]) torch.float16\n",
      "base_model.model.transformer.h.8.mlp.dense_h_to_4h.bias torch.Size([6144]) torch.float16\n",
      "base_model.model.transformer.h.8.mlp.dense_4h_to_h.base_layer.weight torch.Size([1536, 6144]) torch.float16\n",
      "base_model.model.transformer.h.8.mlp.dense_4h_to_h.base_layer.bias torch.Size([1536]) torch.float16\n",
      "base_model.model.transformer.h.8.mlp.dense_4h_to_h.lora_A.default.weight torch.Size([8, 6144]) torch.float16\n",
      "base_model.model.transformer.h.8.mlp.dense_4h_to_h.lora_B.default.weight torch.Size([1536, 8]) torch.float16\n",
      "base_model.model.transformer.h.9.input_layernorm.weight torch.Size([1536]) torch.float16\n",
      "base_model.model.transformer.h.9.input_layernorm.bias torch.Size([1536]) torch.float16\n",
      "base_model.model.transformer.h.9.self_attention.query_key_value.base_layer.weight torch.Size([4608, 1536]) torch.float16\n",
      "base_model.model.transformer.h.9.self_attention.query_key_value.base_layer.bias torch.Size([4608]) torch.float16\n",
      "base_model.model.transformer.h.9.self_attention.query_key_value.lora_A.default.weight torch.Size([8, 1536]) torch.float16\n",
      "base_model.model.transformer.h.9.self_attention.query_key_value.lora_B.default.weight torch.Size([4608, 8]) torch.float16\n",
      "base_model.model.transformer.h.9.self_attention.dense.weight torch.Size([1536, 1536]) torch.float16\n",
      "base_model.model.transformer.h.9.self_attention.dense.bias torch.Size([1536]) torch.float16\n",
      "base_model.model.transformer.h.9.post_attention_layernorm.weight torch.Size([1536]) torch.float16\n",
      "base_model.model.transformer.h.9.post_attention_layernorm.bias torch.Size([1536]) torch.float16\n",
      "base_model.model.transformer.h.9.mlp.dense_h_to_4h.weight torch.Size([6144, 1536]) torch.float16\n",
      "base_model.model.transformer.h.9.mlp.dense_h_to_4h.bias torch.Size([6144]) torch.float16\n",
      "base_model.model.transformer.h.9.mlp.dense_4h_to_h.base_layer.weight torch.Size([1536, 6144]) torch.float16\n",
      "base_model.model.transformer.h.9.mlp.dense_4h_to_h.base_layer.bias torch.Size([1536]) torch.float16\n",
      "base_model.model.transformer.h.9.mlp.dense_4h_to_h.lora_A.default.weight torch.Size([8, 6144]) torch.float16\n",
      "base_model.model.transformer.h.9.mlp.dense_4h_to_h.lora_B.default.weight torch.Size([1536, 8]) torch.float16\n",
      "base_model.model.transformer.h.10.input_layernorm.weight torch.Size([1536]) torch.float16\n",
      "base_model.model.transformer.h.10.input_layernorm.bias torch.Size([1536]) torch.float16\n",
      "base_model.model.transformer.h.10.self_attention.query_key_value.base_layer.weight torch.Size([4608, 1536]) torch.float16\n",
      "base_model.model.transformer.h.10.self_attention.query_key_value.base_layer.bias torch.Size([4608]) torch.float16\n",
      "base_model.model.transformer.h.10.self_attention.query_key_value.lora_A.default.weight torch.Size([8, 1536]) torch.float16\n",
      "base_model.model.transformer.h.10.self_attention.query_key_value.lora_B.default.weight torch.Size([4608, 8]) torch.float16\n",
      "base_model.model.transformer.h.10.self_attention.dense.weight torch.Size([1536, 1536]) torch.float16\n",
      "base_model.model.transformer.h.10.self_attention.dense.bias torch.Size([1536]) torch.float16\n",
      "base_model.model.transformer.h.10.post_attention_layernorm.weight torch.Size([1536]) torch.float16\n",
      "base_model.model.transformer.h.10.post_attention_layernorm.bias torch.Size([1536]) torch.float16\n",
      "base_model.model.transformer.h.10.mlp.dense_h_to_4h.weight torch.Size([6144, 1536]) torch.float16\n",
      "base_model.model.transformer.h.10.mlp.dense_h_to_4h.bias torch.Size([6144]) torch.float16\n",
      "base_model.model.transformer.h.10.mlp.dense_4h_to_h.base_layer.weight torch.Size([1536, 6144]) torch.float16\n",
      "base_model.model.transformer.h.10.mlp.dense_4h_to_h.base_layer.bias torch.Size([1536]) torch.float16\n",
      "base_model.model.transformer.h.10.mlp.dense_4h_to_h.lora_A.default.weight torch.Size([8, 6144]) torch.float16\n",
      "base_model.model.transformer.h.10.mlp.dense_4h_to_h.lora_B.default.weight torch.Size([1536, 8]) torch.float16\n",
      "base_model.model.transformer.h.11.input_layernorm.weight torch.Size([1536]) torch.float16\n",
      "base_model.model.transformer.h.11.input_layernorm.bias torch.Size([1536]) torch.float16\n",
      "base_model.model.transformer.h.11.self_attention.query_key_value.base_layer.weight torch.Size([4608, 1536]) torch.float16\n",
      "base_model.model.transformer.h.11.self_attention.query_key_value.base_layer.bias torch.Size([4608]) torch.float16\n",
      "base_model.model.transformer.h.11.self_attention.query_key_value.lora_A.default.weight torch.Size([8, 1536]) torch.float16\n",
      "base_model.model.transformer.h.11.self_attention.query_key_value.lora_B.default.weight torch.Size([4608, 8]) torch.float16\n",
      "base_model.model.transformer.h.11.self_attention.dense.weight torch.Size([1536, 1536]) torch.float16\n",
      "base_model.model.transformer.h.11.self_attention.dense.bias torch.Size([1536]) torch.float16\n",
      "base_model.model.transformer.h.11.post_attention_layernorm.weight torch.Size([1536]) torch.float16\n",
      "base_model.model.transformer.h.11.post_attention_layernorm.bias torch.Size([1536]) torch.float16\n",
      "base_model.model.transformer.h.11.mlp.dense_h_to_4h.weight torch.Size([6144, 1536]) torch.float16\n",
      "base_model.model.transformer.h.11.mlp.dense_h_to_4h.bias torch.Size([6144]) torch.float16\n",
      "base_model.model.transformer.h.11.mlp.dense_4h_to_h.base_layer.weight torch.Size([1536, 6144]) torch.float16\n",
      "base_model.model.transformer.h.11.mlp.dense_4h_to_h.base_layer.bias torch.Size([1536]) torch.float16\n",
      "base_model.model.transformer.h.11.mlp.dense_4h_to_h.lora_A.default.weight torch.Size([8, 6144]) torch.float16\n",
      "base_model.model.transformer.h.11.mlp.dense_4h_to_h.lora_B.default.weight torch.Size([1536, 8]) torch.float16\n",
      "base_model.model.transformer.h.12.input_layernorm.weight torch.Size([1536]) torch.float16\n",
      "base_model.model.transformer.h.12.input_layernorm.bias torch.Size([1536]) torch.float16\n",
      "base_model.model.transformer.h.12.self_attention.query_key_value.base_layer.weight torch.Size([4608, 1536]) torch.float16\n",
      "base_model.model.transformer.h.12.self_attention.query_key_value.base_layer.bias torch.Size([4608]) torch.float16\n",
      "base_model.model.transformer.h.12.self_attention.query_key_value.lora_A.default.weight torch.Size([8, 1536]) torch.float16\n",
      "base_model.model.transformer.h.12.self_attention.query_key_value.lora_B.default.weight torch.Size([4608, 8]) torch.float16\n",
      "base_model.model.transformer.h.12.self_attention.dense.weight torch.Size([1536, 1536]) torch.float16\n",
      "base_model.model.transformer.h.12.self_attention.dense.bias torch.Size([1536]) torch.float16\n",
      "base_model.model.transformer.h.12.post_attention_layernorm.weight torch.Size([1536]) torch.float16\n",
      "base_model.model.transformer.h.12.post_attention_layernorm.bias torch.Size([1536]) torch.float16\n",
      "base_model.model.transformer.h.12.mlp.dense_h_to_4h.weight torch.Size([6144, 1536]) torch.float16\n",
      "base_model.model.transformer.h.12.mlp.dense_h_to_4h.bias torch.Size([6144]) torch.float16\n",
      "base_model.model.transformer.h.12.mlp.dense_4h_to_h.base_layer.weight torch.Size([1536, 6144]) torch.float16\n",
      "base_model.model.transformer.h.12.mlp.dense_4h_to_h.base_layer.bias torch.Size([1536]) torch.float16\n",
      "base_model.model.transformer.h.12.mlp.dense_4h_to_h.lora_A.default.weight torch.Size([8, 6144]) torch.float16\n",
      "base_model.model.transformer.h.12.mlp.dense_4h_to_h.lora_B.default.weight torch.Size([1536, 8]) torch.float16\n",
      "base_model.model.transformer.h.13.input_layernorm.weight torch.Size([1536]) torch.float16\n",
      "base_model.model.transformer.h.13.input_layernorm.bias torch.Size([1536]) torch.float16\n",
      "base_model.model.transformer.h.13.self_attention.query_key_value.base_layer.weight torch.Size([4608, 1536]) torch.float16\n",
      "base_model.model.transformer.h.13.self_attention.query_key_value.base_layer.bias torch.Size([4608]) torch.float16\n",
      "base_model.model.transformer.h.13.self_attention.query_key_value.lora_A.default.weight torch.Size([8, 1536]) torch.float16\n",
      "base_model.model.transformer.h.13.self_attention.query_key_value.lora_B.default.weight torch.Size([4608, 8]) torch.float16\n",
      "base_model.model.transformer.h.13.self_attention.dense.weight torch.Size([1536, 1536]) torch.float16\n",
      "base_model.model.transformer.h.13.self_attention.dense.bias torch.Size([1536]) torch.float16\n",
      "base_model.model.transformer.h.13.post_attention_layernorm.weight torch.Size([1536]) torch.float16\n",
      "base_model.model.transformer.h.13.post_attention_layernorm.bias torch.Size([1536]) torch.float16\n",
      "base_model.model.transformer.h.13.mlp.dense_h_to_4h.weight torch.Size([6144, 1536]) torch.float16\n",
      "base_model.model.transformer.h.13.mlp.dense_h_to_4h.bias torch.Size([6144]) torch.float16\n",
      "base_model.model.transformer.h.13.mlp.dense_4h_to_h.base_layer.weight torch.Size([1536, 6144]) torch.float16\n",
      "base_model.model.transformer.h.13.mlp.dense_4h_to_h.base_layer.bias torch.Size([1536]) torch.float16\n",
      "base_model.model.transformer.h.13.mlp.dense_4h_to_h.lora_A.default.weight torch.Size([8, 6144]) torch.float16\n",
      "base_model.model.transformer.h.13.mlp.dense_4h_to_h.lora_B.default.weight torch.Size([1536, 8]) torch.float16\n",
      "base_model.model.transformer.h.14.input_layernorm.weight torch.Size([1536]) torch.float16\n",
      "base_model.model.transformer.h.14.input_layernorm.bias torch.Size([1536]) torch.float16\n",
      "base_model.model.transformer.h.14.self_attention.query_key_value.base_layer.weight torch.Size([4608, 1536]) torch.float16\n",
      "base_model.model.transformer.h.14.self_attention.query_key_value.base_layer.bias torch.Size([4608]) torch.float16\n",
      "base_model.model.transformer.h.14.self_attention.query_key_value.lora_A.default.weight torch.Size([8, 1536]) torch.float16\n",
      "base_model.model.transformer.h.14.self_attention.query_key_value.lora_B.default.weight torch.Size([4608, 8]) torch.float16\n",
      "base_model.model.transformer.h.14.self_attention.dense.weight torch.Size([1536, 1536]) torch.float16\n",
      "base_model.model.transformer.h.14.self_attention.dense.bias torch.Size([1536]) torch.float16\n",
      "base_model.model.transformer.h.14.post_attention_layernorm.weight torch.Size([1536]) torch.float16\n",
      "base_model.model.transformer.h.14.post_attention_layernorm.bias torch.Size([1536]) torch.float16\n",
      "base_model.model.transformer.h.14.mlp.dense_h_to_4h.weight torch.Size([6144, 1536]) torch.float16\n",
      "base_model.model.transformer.h.14.mlp.dense_h_to_4h.bias torch.Size([6144]) torch.float16\n",
      "base_model.model.transformer.h.14.mlp.dense_4h_to_h.base_layer.weight torch.Size([1536, 6144]) torch.float16\n",
      "base_model.model.transformer.h.14.mlp.dense_4h_to_h.base_layer.bias torch.Size([1536]) torch.float16\n",
      "base_model.model.transformer.h.14.mlp.dense_4h_to_h.lora_A.default.weight torch.Size([8, 6144]) torch.float16\n",
      "base_model.model.transformer.h.14.mlp.dense_4h_to_h.lora_B.default.weight torch.Size([1536, 8]) torch.float16\n",
      "base_model.model.transformer.h.15.input_layernorm.weight torch.Size([1536]) torch.float16\n",
      "base_model.model.transformer.h.15.input_layernorm.bias torch.Size([1536]) torch.float16\n",
      "base_model.model.transformer.h.15.self_attention.query_key_value.base_layer.weight torch.Size([4608, 1536]) torch.float16\n",
      "base_model.model.transformer.h.15.self_attention.query_key_value.base_layer.bias torch.Size([4608]) torch.float16\n",
      "base_model.model.transformer.h.15.self_attention.query_key_value.lora_A.default.weight torch.Size([8, 1536]) torch.float16\n",
      "base_model.model.transformer.h.15.self_attention.query_key_value.lora_B.default.weight torch.Size([4608, 8]) torch.float16\n",
      "base_model.model.transformer.h.15.self_attention.dense.weight torch.Size([1536, 1536]) torch.float16\n",
      "base_model.model.transformer.h.15.self_attention.dense.bias torch.Size([1536]) torch.float16\n",
      "base_model.model.transformer.h.15.post_attention_layernorm.weight torch.Size([1536]) torch.float16\n",
      "base_model.model.transformer.h.15.post_attention_layernorm.bias torch.Size([1536]) torch.float16\n",
      "base_model.model.transformer.h.15.mlp.dense_h_to_4h.weight torch.Size([6144, 1536]) torch.float16\n",
      "base_model.model.transformer.h.15.mlp.dense_h_to_4h.bias torch.Size([6144]) torch.float16\n",
      "base_model.model.transformer.h.15.mlp.dense_4h_to_h.base_layer.weight torch.Size([1536, 6144]) torch.float16\n",
      "base_model.model.transformer.h.15.mlp.dense_4h_to_h.base_layer.bias torch.Size([1536]) torch.float16\n",
      "base_model.model.transformer.h.15.mlp.dense_4h_to_h.lora_A.default.weight torch.Size([8, 6144]) torch.float16\n",
      "base_model.model.transformer.h.15.mlp.dense_4h_to_h.lora_B.default.weight torch.Size([1536, 8]) torch.float16\n",
      "base_model.model.transformer.h.16.input_layernorm.weight torch.Size([1536]) torch.float16\n",
      "base_model.model.transformer.h.16.input_layernorm.bias torch.Size([1536]) torch.float16\n",
      "base_model.model.transformer.h.16.self_attention.query_key_value.base_layer.weight torch.Size([4608, 1536]) torch.float16\n",
      "base_model.model.transformer.h.16.self_attention.query_key_value.base_layer.bias torch.Size([4608]) torch.float16\n",
      "base_model.model.transformer.h.16.self_attention.query_key_value.lora_A.default.weight torch.Size([8, 1536]) torch.float16\n",
      "base_model.model.transformer.h.16.self_attention.query_key_value.lora_B.default.weight torch.Size([4608, 8]) torch.float16\n",
      "base_model.model.transformer.h.16.self_attention.dense.weight torch.Size([1536, 1536]) torch.float16\n",
      "base_model.model.transformer.h.16.self_attention.dense.bias torch.Size([1536]) torch.float16\n",
      "base_model.model.transformer.h.16.post_attention_layernorm.weight torch.Size([1536]) torch.float16\n",
      "base_model.model.transformer.h.16.post_attention_layernorm.bias torch.Size([1536]) torch.float16\n",
      "base_model.model.transformer.h.16.mlp.dense_h_to_4h.weight torch.Size([6144, 1536]) torch.float16\n",
      "base_model.model.transformer.h.16.mlp.dense_h_to_4h.bias torch.Size([6144]) torch.float16\n",
      "base_model.model.transformer.h.16.mlp.dense_4h_to_h.base_layer.weight torch.Size([1536, 6144]) torch.float16\n",
      "base_model.model.transformer.h.16.mlp.dense_4h_to_h.base_layer.bias torch.Size([1536]) torch.float16\n",
      "base_model.model.transformer.h.16.mlp.dense_4h_to_h.lora_A.default.weight torch.Size([8, 6144]) torch.float16\n",
      "base_model.model.transformer.h.16.mlp.dense_4h_to_h.lora_B.default.weight torch.Size([1536, 8]) torch.float16\n",
      "base_model.model.transformer.h.17.input_layernorm.weight torch.Size([1536]) torch.float16\n",
      "base_model.model.transformer.h.17.input_layernorm.bias torch.Size([1536]) torch.float16\n",
      "base_model.model.transformer.h.17.self_attention.query_key_value.base_layer.weight torch.Size([4608, 1536]) torch.float16\n",
      "base_model.model.transformer.h.17.self_attention.query_key_value.base_layer.bias torch.Size([4608]) torch.float16\n",
      "base_model.model.transformer.h.17.self_attention.query_key_value.lora_A.default.weight torch.Size([8, 1536]) torch.float16\n",
      "base_model.model.transformer.h.17.self_attention.query_key_value.lora_B.default.weight torch.Size([4608, 8]) torch.float16\n",
      "base_model.model.transformer.h.17.self_attention.dense.weight torch.Size([1536, 1536]) torch.float16\n",
      "base_model.model.transformer.h.17.self_attention.dense.bias torch.Size([1536]) torch.float16\n",
      "base_model.model.transformer.h.17.post_attention_layernorm.weight torch.Size([1536]) torch.float16\n",
      "base_model.model.transformer.h.17.post_attention_layernorm.bias torch.Size([1536]) torch.float16\n",
      "base_model.model.transformer.h.17.mlp.dense_h_to_4h.weight torch.Size([6144, 1536]) torch.float16\n",
      "base_model.model.transformer.h.17.mlp.dense_h_to_4h.bias torch.Size([6144]) torch.float16\n",
      "base_model.model.transformer.h.17.mlp.dense_4h_to_h.base_layer.weight torch.Size([1536, 6144]) torch.float16\n",
      "base_model.model.transformer.h.17.mlp.dense_4h_to_h.base_layer.bias torch.Size([1536]) torch.float16\n",
      "base_model.model.transformer.h.17.mlp.dense_4h_to_h.lora_A.default.weight torch.Size([8, 6144]) torch.float16\n",
      "base_model.model.transformer.h.17.mlp.dense_4h_to_h.lora_B.default.weight torch.Size([1536, 8]) torch.float16\n",
      "base_model.model.transformer.h.18.input_layernorm.weight torch.Size([1536]) torch.float16\n",
      "base_model.model.transformer.h.18.input_layernorm.bias torch.Size([1536]) torch.float16\n",
      "base_model.model.transformer.h.18.self_attention.query_key_value.base_layer.weight torch.Size([4608, 1536]) torch.float16\n",
      "base_model.model.transformer.h.18.self_attention.query_key_value.base_layer.bias torch.Size([4608]) torch.float16\n",
      "base_model.model.transformer.h.18.self_attention.query_key_value.lora_A.default.weight torch.Size([8, 1536]) torch.float16\n",
      "base_model.model.transformer.h.18.self_attention.query_key_value.lora_B.default.weight torch.Size([4608, 8]) torch.float16\n",
      "base_model.model.transformer.h.18.self_attention.dense.weight torch.Size([1536, 1536]) torch.float16\n",
      "base_model.model.transformer.h.18.self_attention.dense.bias torch.Size([1536]) torch.float16\n",
      "base_model.model.transformer.h.18.post_attention_layernorm.weight torch.Size([1536]) torch.float16\n",
      "base_model.model.transformer.h.18.post_attention_layernorm.bias torch.Size([1536]) torch.float16\n",
      "base_model.model.transformer.h.18.mlp.dense_h_to_4h.weight torch.Size([6144, 1536]) torch.float16\n",
      "base_model.model.transformer.h.18.mlp.dense_h_to_4h.bias torch.Size([6144]) torch.float16\n",
      "base_model.model.transformer.h.18.mlp.dense_4h_to_h.base_layer.weight torch.Size([1536, 6144]) torch.float16\n",
      "base_model.model.transformer.h.18.mlp.dense_4h_to_h.base_layer.bias torch.Size([1536]) torch.float16\n",
      "base_model.model.transformer.h.18.mlp.dense_4h_to_h.lora_A.default.weight torch.Size([8, 6144]) torch.float16\n",
      "base_model.model.transformer.h.18.mlp.dense_4h_to_h.lora_B.default.weight torch.Size([1536, 8]) torch.float16\n",
      "base_model.model.transformer.h.19.input_layernorm.weight torch.Size([1536]) torch.float16\n",
      "base_model.model.transformer.h.19.input_layernorm.bias torch.Size([1536]) torch.float16\n",
      "base_model.model.transformer.h.19.self_attention.query_key_value.base_layer.weight torch.Size([4608, 1536]) torch.float16\n",
      "base_model.model.transformer.h.19.self_attention.query_key_value.base_layer.bias torch.Size([4608]) torch.float16\n",
      "base_model.model.transformer.h.19.self_attention.query_key_value.lora_A.default.weight torch.Size([8, 1536]) torch.float16\n",
      "base_model.model.transformer.h.19.self_attention.query_key_value.lora_B.default.weight torch.Size([4608, 8]) torch.float16\n",
      "base_model.model.transformer.h.19.self_attention.dense.weight torch.Size([1536, 1536]) torch.float16\n",
      "base_model.model.transformer.h.19.self_attention.dense.bias torch.Size([1536]) torch.float16\n",
      "base_model.model.transformer.h.19.post_attention_layernorm.weight torch.Size([1536]) torch.float16\n",
      "base_model.model.transformer.h.19.post_attention_layernorm.bias torch.Size([1536]) torch.float16\n",
      "base_model.model.transformer.h.19.mlp.dense_h_to_4h.weight torch.Size([6144, 1536]) torch.float16\n",
      "base_model.model.transformer.h.19.mlp.dense_h_to_4h.bias torch.Size([6144]) torch.float16\n",
      "base_model.model.transformer.h.19.mlp.dense_4h_to_h.base_layer.weight torch.Size([1536, 6144]) torch.float16\n",
      "base_model.model.transformer.h.19.mlp.dense_4h_to_h.base_layer.bias torch.Size([1536]) torch.float16\n",
      "base_model.model.transformer.h.19.mlp.dense_4h_to_h.lora_A.default.weight torch.Size([8, 6144]) torch.float16\n",
      "base_model.model.transformer.h.19.mlp.dense_4h_to_h.lora_B.default.weight torch.Size([1536, 8]) torch.float16\n",
      "base_model.model.transformer.h.20.input_layernorm.weight torch.Size([1536]) torch.float16\n",
      "base_model.model.transformer.h.20.input_layernorm.bias torch.Size([1536]) torch.float16\n",
      "base_model.model.transformer.h.20.self_attention.query_key_value.base_layer.weight torch.Size([4608, 1536]) torch.float16\n",
      "base_model.model.transformer.h.20.self_attention.query_key_value.base_layer.bias torch.Size([4608]) torch.float16\n",
      "base_model.model.transformer.h.20.self_attention.query_key_value.lora_A.default.weight torch.Size([8, 1536]) torch.float16\n",
      "base_model.model.transformer.h.20.self_attention.query_key_value.lora_B.default.weight torch.Size([4608, 8]) torch.float16\n",
      "base_model.model.transformer.h.20.self_attention.dense.weight torch.Size([1536, 1536]) torch.float16\n",
      "base_model.model.transformer.h.20.self_attention.dense.bias torch.Size([1536]) torch.float16\n",
      "base_model.model.transformer.h.20.post_attention_layernorm.weight torch.Size([1536]) torch.float16\n",
      "base_model.model.transformer.h.20.post_attention_layernorm.bias torch.Size([1536]) torch.float16\n",
      "base_model.model.transformer.h.20.mlp.dense_h_to_4h.weight torch.Size([6144, 1536]) torch.float16\n",
      "base_model.model.transformer.h.20.mlp.dense_h_to_4h.bias torch.Size([6144]) torch.float16\n",
      "base_model.model.transformer.h.20.mlp.dense_4h_to_h.base_layer.weight torch.Size([1536, 6144]) torch.float16\n",
      "base_model.model.transformer.h.20.mlp.dense_4h_to_h.base_layer.bias torch.Size([1536]) torch.float16\n",
      "base_model.model.transformer.h.20.mlp.dense_4h_to_h.lora_A.default.weight torch.Size([8, 6144]) torch.float16\n",
      "base_model.model.transformer.h.20.mlp.dense_4h_to_h.lora_B.default.weight torch.Size([1536, 8]) torch.float16\n",
      "base_model.model.transformer.h.21.input_layernorm.weight torch.Size([1536]) torch.float16\n",
      "base_model.model.transformer.h.21.input_layernorm.bias torch.Size([1536]) torch.float16\n",
      "base_model.model.transformer.h.21.self_attention.query_key_value.base_layer.weight torch.Size([4608, 1536]) torch.float16\n",
      "base_model.model.transformer.h.21.self_attention.query_key_value.base_layer.bias torch.Size([4608]) torch.float16\n",
      "base_model.model.transformer.h.21.self_attention.query_key_value.lora_A.default.weight torch.Size([8, 1536]) torch.float16\n",
      "base_model.model.transformer.h.21.self_attention.query_key_value.lora_B.default.weight torch.Size([4608, 8]) torch.float16\n",
      "base_model.model.transformer.h.21.self_attention.dense.weight torch.Size([1536, 1536]) torch.float16\n",
      "base_model.model.transformer.h.21.self_attention.dense.bias torch.Size([1536]) torch.float16\n",
      "base_model.model.transformer.h.21.post_attention_layernorm.weight torch.Size([1536]) torch.float16\n",
      "base_model.model.transformer.h.21.post_attention_layernorm.bias torch.Size([1536]) torch.float16\n",
      "base_model.model.transformer.h.21.mlp.dense_h_to_4h.weight torch.Size([6144, 1536]) torch.float16\n",
      "base_model.model.transformer.h.21.mlp.dense_h_to_4h.bias torch.Size([6144]) torch.float16\n",
      "base_model.model.transformer.h.21.mlp.dense_4h_to_h.base_layer.weight torch.Size([1536, 6144]) torch.float16\n",
      "base_model.model.transformer.h.21.mlp.dense_4h_to_h.base_layer.bias torch.Size([1536]) torch.float16\n",
      "base_model.model.transformer.h.21.mlp.dense_4h_to_h.lora_A.default.weight torch.Size([8, 6144]) torch.float16\n",
      "base_model.model.transformer.h.21.mlp.dense_4h_to_h.lora_B.default.weight torch.Size([1536, 8]) torch.float16\n",
      "base_model.model.transformer.h.22.input_layernorm.weight torch.Size([1536]) torch.float16\n",
      "base_model.model.transformer.h.22.input_layernorm.bias torch.Size([1536]) torch.float16\n",
      "base_model.model.transformer.h.22.self_attention.query_key_value.base_layer.weight torch.Size([4608, 1536]) torch.float16\n",
      "base_model.model.transformer.h.22.self_attention.query_key_value.base_layer.bias torch.Size([4608]) torch.float16\n",
      "base_model.model.transformer.h.22.self_attention.query_key_value.lora_A.default.weight torch.Size([8, 1536]) torch.float16\n",
      "base_model.model.transformer.h.22.self_attention.query_key_value.lora_B.default.weight torch.Size([4608, 8]) torch.float16\n",
      "base_model.model.transformer.h.22.self_attention.dense.weight torch.Size([1536, 1536]) torch.float16\n",
      "base_model.model.transformer.h.22.self_attention.dense.bias torch.Size([1536]) torch.float16\n",
      "base_model.model.transformer.h.22.post_attention_layernorm.weight torch.Size([1536]) torch.float16\n",
      "base_model.model.transformer.h.22.post_attention_layernorm.bias torch.Size([1536]) torch.float16\n",
      "base_model.model.transformer.h.22.mlp.dense_h_to_4h.weight torch.Size([6144, 1536]) torch.float16\n",
      "base_model.model.transformer.h.22.mlp.dense_h_to_4h.bias torch.Size([6144]) torch.float16\n",
      "base_model.model.transformer.h.22.mlp.dense_4h_to_h.base_layer.weight torch.Size([1536, 6144]) torch.float16\n",
      "base_model.model.transformer.h.22.mlp.dense_4h_to_h.base_layer.bias torch.Size([1536]) torch.float16\n",
      "base_model.model.transformer.h.22.mlp.dense_4h_to_h.lora_A.default.weight torch.Size([8, 6144]) torch.float16\n",
      "base_model.model.transformer.h.22.mlp.dense_4h_to_h.lora_B.default.weight torch.Size([1536, 8]) torch.float16\n",
      "base_model.model.transformer.h.23.input_layernorm.weight torch.Size([1536]) torch.float16\n",
      "base_model.model.transformer.h.23.input_layernorm.bias torch.Size([1536]) torch.float16\n",
      "base_model.model.transformer.h.23.self_attention.query_key_value.base_layer.weight torch.Size([4608, 1536]) torch.float16\n",
      "base_model.model.transformer.h.23.self_attention.query_key_value.base_layer.bias torch.Size([4608]) torch.float16\n",
      "base_model.model.transformer.h.23.self_attention.query_key_value.lora_A.default.weight torch.Size([8, 1536]) torch.float16\n",
      "base_model.model.transformer.h.23.self_attention.query_key_value.lora_B.default.weight torch.Size([4608, 8]) torch.float16\n",
      "base_model.model.transformer.h.23.self_attention.dense.weight torch.Size([1536, 1536]) torch.float16\n",
      "base_model.model.transformer.h.23.self_attention.dense.bias torch.Size([1536]) torch.float16\n",
      "base_model.model.transformer.h.23.post_attention_layernorm.weight torch.Size([1536]) torch.float16\n",
      "base_model.model.transformer.h.23.post_attention_layernorm.bias torch.Size([1536]) torch.float16\n",
      "base_model.model.transformer.h.23.mlp.dense_h_to_4h.weight torch.Size([6144, 1536]) torch.float16\n",
      "base_model.model.transformer.h.23.mlp.dense_h_to_4h.bias torch.Size([6144]) torch.float16\n",
      "base_model.model.transformer.h.23.mlp.dense_4h_to_h.base_layer.weight torch.Size([1536, 6144]) torch.float16\n",
      "base_model.model.transformer.h.23.mlp.dense_4h_to_h.base_layer.bias torch.Size([1536]) torch.float16\n",
      "base_model.model.transformer.h.23.mlp.dense_4h_to_h.lora_A.default.weight torch.Size([8, 6144]) torch.float16\n",
      "base_model.model.transformer.h.23.mlp.dense_4h_to_h.lora_B.default.weight torch.Size([1536, 8]) torch.float16\n",
      "base_model.model.transformer.ln_f.weight torch.Size([1536]) torch.float16\n",
      "base_model.model.transformer.ln_f.bias torch.Size([1536]) torch.float16\n"
     ]
    }
   ],
   "execution_count": 18
  },
  {
   "cell_type": "markdown",
   "metadata": {},
   "source": [
    "## Step5 配置训练参数"
   ]
  },
  {
   "cell_type": "code",
   "metadata": {
    "tags": [],
    "ExecuteTime": {
     "end_time": "2024-05-03T12:48:08.645808Z",
     "start_time": "2024-05-03T12:48:08.608521Z"
    }
   },
   "source": [
    "##   adam_epsilon=1e-4\n",
    "args = TrainingArguments(\n",
    "    output_dir=\"bloomoutput\",\n",
    "    per_device_train_batch_size=1,\n",
    "    gradient_accumulation_steps=8,\n",
    "    logging_steps=100,\n",
    "    num_train_epochs=6,\n",
    "    adam_epsilon=1e-4\n",
    ")\n",
    "\n",
    "# adam_epsilon   1e-8  0.000000001"
   ],
   "outputs": [],
   "execution_count": 21
  },
  {
   "cell_type": "markdown",
   "metadata": {},
   "source": [
    "## Step6 创建训练器"
   ]
  },
  {
   "cell_type": "code",
   "metadata": {
    "tags": [],
    "ExecuteTime": {
     "end_time": "2024-05-03T12:48:11.117604Z",
     "start_time": "2024-05-03T12:48:11.110035Z"
    }
   },
   "source": [
    "# trainer = Trainer(\n",
    "#     model=model,\n",
    "#     args=args,\n",
    "#     train_dataset=tokenized_ds,\n",
    "#     data_collator=DataCollatorForSeq2Seq(tokenizer=tokenizer, padding=True),\n",
    "# )\n",
    "\n",
    "\n",
    "trainer = Trainer(\n",
    "    model,\n",
    "    args,\n",
    "    train_dataset=tokenized_ds,\n",
    "    eval_dataset=DataCollatorForSeq2Seq(tokenizer=tokenizer, padding=True),\n",
    "    data_collator=data_collator,\n",
    "    tokenizer=tokenizer,\n",
    ")"
   ],
   "outputs": [],
   "execution_count": 22
  },
  {
   "cell_type": "markdown",
   "metadata": {},
   "source": [
    "## Step7 模型训练"
   ]
  },
  {
   "cell_type": "code",
   "metadata": {
    "tags": [],
    "ExecuteTime": {
     "end_time": "2024-05-03T13:31:29.268085Z",
     "start_time": "2024-05-03T12:48:14.084107Z"
    }
   },
   "source": [
    "trainer.train()"
   ],
   "outputs": [
    {
     "name": "stderr",
     "output_type": "stream",
     "text": [
      "wandb: Currently logged in as: dafei1288. Use `wandb login --relogin` to force relogin\n"
     ]
    },
    {
     "data": {
      "text/plain": [
       "VBox(children=(Label(value='Waiting for wandb.init()...\\r'), FloatProgress(value=0.011111111111111112, max=1.0…"
      ],
      "application/vnd.jupyter.widget-view+json": {
       "version_major": 2,
       "version_minor": 0,
       "model_id": "adf40ced2fbb4fcea8915605159ff382"
      }
     },
     "metadata": {},
     "output_type": "display_data"
    },
    {
     "data": {
      "text/plain": [
       "<IPython.core.display.HTML object>"
      ],
      "text/html": [
       "Tracking run with wandb version 0.16.6"
      ]
     },
     "metadata": {},
     "output_type": "display_data"
    },
    {
     "data": {
      "text/plain": [
       "<IPython.core.display.HTML object>"
      ],
      "text/html": [
       "Run data is saved locally in <code>D:\\working\\mycode\\bloom_med_lora\\wandb\\run-20240503_204817-axhrylei</code>"
      ]
     },
     "metadata": {},
     "output_type": "display_data"
    },
    {
     "data": {
      "text/plain": [
       "<IPython.core.display.HTML object>"
      ],
      "text/html": [
       "Syncing run <strong><a href='https://wandb.ai/dafei1288/huggingface/runs/axhrylei' target=\"_blank\">worldly-disco-11</a></strong> to <a href='https://wandb.ai/dafei1288/huggingface' target=\"_blank\">Weights & Biases</a> (<a href='https://wandb.me/run' target=\"_blank\">docs</a>)<br/>"
      ]
     },
     "metadata": {},
     "output_type": "display_data"
    },
    {
     "data": {
      "text/plain": [
       "<IPython.core.display.HTML object>"
      ],
      "text/html": [
       " View project at <a href='https://wandb.ai/dafei1288/huggingface' target=\"_blank\">https://wandb.ai/dafei1288/huggingface</a>"
      ]
     },
     "metadata": {},
     "output_type": "display_data"
    },
    {
     "data": {
      "text/plain": [
       "<IPython.core.display.HTML object>"
      ],
      "text/html": [
       " View run at <a href='https://wandb.ai/dafei1288/huggingface/runs/axhrylei' target=\"_blank\">https://wandb.ai/dafei1288/huggingface/runs/axhrylei</a>"
      ]
     },
     "metadata": {},
     "output_type": "display_data"
    },
    {
     "data": {
      "text/plain": [
       "<IPython.core.display.HTML object>"
      ],
      "text/html": [
       "\n",
       "    <div>\n",
       "      \n",
       "      <progress value='6492' max='6492' style='width:300px; height:20px; vertical-align: middle;'></progress>\n",
       "      [6492/6492 43:07, Epoch 5/6]\n",
       "    </div>\n",
       "    <table border=\"1\" class=\"dataframe\">\n",
       "  <thead>\n",
       " <tr style=\"text-align: left;\">\n",
       "      <th>Step</th>\n",
       "      <th>Training Loss</th>\n",
       "    </tr>\n",
       "  </thead>\n",
       "  <tbody>\n",
       "    <tr>\n",
       "      <td>100</td>\n",
       "      <td>2.327500</td>\n",
       "    </tr>\n",
       "    <tr>\n",
       "      <td>200</td>\n",
       "      <td>2.155600</td>\n",
       "    </tr>\n",
       "    <tr>\n",
       "      <td>300</td>\n",
       "      <td>2.139900</td>\n",
       "    </tr>\n",
       "    <tr>\n",
       "      <td>400</td>\n",
       "      <td>2.121500</td>\n",
       "    </tr>\n",
       "    <tr>\n",
       "      <td>500</td>\n",
       "      <td>2.105900</td>\n",
       "    </tr>\n",
       "    <tr>\n",
       "      <td>600</td>\n",
       "      <td>2.032800</td>\n",
       "    </tr>\n",
       "    <tr>\n",
       "      <td>700</td>\n",
       "      <td>2.040100</td>\n",
       "    </tr>\n",
       "    <tr>\n",
       "      <td>800</td>\n",
       "      <td>2.041400</td>\n",
       "    </tr>\n",
       "    <tr>\n",
       "      <td>900</td>\n",
       "      <td>2.028600</td>\n",
       "    </tr>\n",
       "    <tr>\n",
       "      <td>1000</td>\n",
       "      <td>2.011600</td>\n",
       "    </tr>\n",
       "    <tr>\n",
       "      <td>1100</td>\n",
       "      <td>1.954300</td>\n",
       "    </tr>\n",
       "    <tr>\n",
       "      <td>1200</td>\n",
       "      <td>1.916200</td>\n",
       "    </tr>\n",
       "    <tr>\n",
       "      <td>1300</td>\n",
       "      <td>1.907600</td>\n",
       "    </tr>\n",
       "    <tr>\n",
       "      <td>1400</td>\n",
       "      <td>1.930800</td>\n",
       "    </tr>\n",
       "    <tr>\n",
       "      <td>1500</td>\n",
       "      <td>1.882400</td>\n",
       "    </tr>\n",
       "    <tr>\n",
       "      <td>1600</td>\n",
       "      <td>1.891900</td>\n",
       "    </tr>\n",
       "    <tr>\n",
       "      <td>1700</td>\n",
       "      <td>1.896200</td>\n",
       "    </tr>\n",
       "    <tr>\n",
       "      <td>1800</td>\n",
       "      <td>1.916100</td>\n",
       "    </tr>\n",
       "    <tr>\n",
       "      <td>1900</td>\n",
       "      <td>1.870900</td>\n",
       "    </tr>\n",
       "    <tr>\n",
       "      <td>2000</td>\n",
       "      <td>1.843400</td>\n",
       "    </tr>\n",
       "    <tr>\n",
       "      <td>2100</td>\n",
       "      <td>1.844900</td>\n",
       "    </tr>\n",
       "    <tr>\n",
       "      <td>2200</td>\n",
       "      <td>1.786600</td>\n",
       "    </tr>\n",
       "    <tr>\n",
       "      <td>2300</td>\n",
       "      <td>1.761500</td>\n",
       "    </tr>\n",
       "    <tr>\n",
       "      <td>2400</td>\n",
       "      <td>1.755800</td>\n",
       "    </tr>\n",
       "    <tr>\n",
       "      <td>2500</td>\n",
       "      <td>1.732100</td>\n",
       "    </tr>\n",
       "    <tr>\n",
       "      <td>2600</td>\n",
       "      <td>1.707600</td>\n",
       "    </tr>\n",
       "    <tr>\n",
       "      <td>2700</td>\n",
       "      <td>1.735900</td>\n",
       "    </tr>\n",
       "    <tr>\n",
       "      <td>2800</td>\n",
       "      <td>1.704900</td>\n",
       "    </tr>\n",
       "    <tr>\n",
       "      <td>2900</td>\n",
       "      <td>1.730900</td>\n",
       "    </tr>\n",
       "    <tr>\n",
       "      <td>3000</td>\n",
       "      <td>1.753600</td>\n",
       "    </tr>\n",
       "    <tr>\n",
       "      <td>3100</td>\n",
       "      <td>1.735300</td>\n",
       "    </tr>\n",
       "    <tr>\n",
       "      <td>3200</td>\n",
       "      <td>1.800700</td>\n",
       "    </tr>\n",
       "    <tr>\n",
       "      <td>3300</td>\n",
       "      <td>1.653900</td>\n",
       "    </tr>\n",
       "    <tr>\n",
       "      <td>3400</td>\n",
       "      <td>1.643300</td>\n",
       "    </tr>\n",
       "    <tr>\n",
       "      <td>3500</td>\n",
       "      <td>1.615100</td>\n",
       "    </tr>\n",
       "    <tr>\n",
       "      <td>3600</td>\n",
       "      <td>1.632500</td>\n",
       "    </tr>\n",
       "    <tr>\n",
       "      <td>3700</td>\n",
       "      <td>1.607600</td>\n",
       "    </tr>\n",
       "    <tr>\n",
       "      <td>3800</td>\n",
       "      <td>1.625400</td>\n",
       "    </tr>\n",
       "    <tr>\n",
       "      <td>3900</td>\n",
       "      <td>1.634400</td>\n",
       "    </tr>\n",
       "    <tr>\n",
       "      <td>4000</td>\n",
       "      <td>1.628900</td>\n",
       "    </tr>\n",
       "    <tr>\n",
       "      <td>4100</td>\n",
       "      <td>1.615500</td>\n",
       "    </tr>\n",
       "    <tr>\n",
       "      <td>4200</td>\n",
       "      <td>1.617700</td>\n",
       "    </tr>\n",
       "    <tr>\n",
       "      <td>4300</td>\n",
       "      <td>1.619500</td>\n",
       "    </tr>\n",
       "    <tr>\n",
       "      <td>4400</td>\n",
       "      <td>1.558500</td>\n",
       "    </tr>\n",
       "    <tr>\n",
       "      <td>4500</td>\n",
       "      <td>1.527700</td>\n",
       "    </tr>\n",
       "    <tr>\n",
       "      <td>4600</td>\n",
       "      <td>1.534500</td>\n",
       "    </tr>\n",
       "    <tr>\n",
       "      <td>4700</td>\n",
       "      <td>1.575100</td>\n",
       "    </tr>\n",
       "    <tr>\n",
       "      <td>4800</td>\n",
       "      <td>1.554900</td>\n",
       "    </tr>\n",
       "    <tr>\n",
       "      <td>4900</td>\n",
       "      <td>1.504100</td>\n",
       "    </tr>\n",
       "    <tr>\n",
       "      <td>5000</td>\n",
       "      <td>1.537900</td>\n",
       "    </tr>\n",
       "    <tr>\n",
       "      <td>5100</td>\n",
       "      <td>1.516600</td>\n",
       "    </tr>\n",
       "    <tr>\n",
       "      <td>5200</td>\n",
       "      <td>1.504000</td>\n",
       "    </tr>\n",
       "    <tr>\n",
       "      <td>5300</td>\n",
       "      <td>1.540600</td>\n",
       "    </tr>\n",
       "    <tr>\n",
       "      <td>5400</td>\n",
       "      <td>1.501400</td>\n",
       "    </tr>\n",
       "    <tr>\n",
       "      <td>5500</td>\n",
       "      <td>1.472600</td>\n",
       "    </tr>\n",
       "    <tr>\n",
       "      <td>5600</td>\n",
       "      <td>1.462400</td>\n",
       "    </tr>\n",
       "    <tr>\n",
       "      <td>5700</td>\n",
       "      <td>1.474500</td>\n",
       "    </tr>\n",
       "    <tr>\n",
       "      <td>5800</td>\n",
       "      <td>1.462400</td>\n",
       "    </tr>\n",
       "    <tr>\n",
       "      <td>5900</td>\n",
       "      <td>1.477700</td>\n",
       "    </tr>\n",
       "    <tr>\n",
       "      <td>6000</td>\n",
       "      <td>1.445500</td>\n",
       "    </tr>\n",
       "    <tr>\n",
       "      <td>6100</td>\n",
       "      <td>1.463000</td>\n",
       "    </tr>\n",
       "    <tr>\n",
       "      <td>6200</td>\n",
       "      <td>1.472300</td>\n",
       "    </tr>\n",
       "    <tr>\n",
       "      <td>6300</td>\n",
       "      <td>1.483700</td>\n",
       "    </tr>\n",
       "    <tr>\n",
       "      <td>6400</td>\n",
       "      <td>1.438800</td>\n",
       "    </tr>\n",
       "  </tbody>\n",
       "</table><p>"
      ]
     },
     "metadata": {},
     "output_type": "display_data"
    },
    {
     "name": "stderr",
     "output_type": "stream",
     "text": [
      "D:\\working\\mycode\\bloom_med_lora\\venv\\Lib\\site-packages\\peft\\utils\\save_and_load.py:154: UserWarning: Could not find a config file in model/langboat/bloom-800m-zh - will assume that the vocabulary was not modified.\n",
      "  warnings.warn(\n",
      "D:\\working\\mycode\\bloom_med_lora\\venv\\Lib\\site-packages\\peft\\utils\\save_and_load.py:154: UserWarning: Could not find a config file in model/langboat/bloom-800m-zh - will assume that the vocabulary was not modified.\n",
      "  warnings.warn(\n",
      "D:\\working\\mycode\\bloom_med_lora\\venv\\Lib\\site-packages\\peft\\utils\\save_and_load.py:154: UserWarning: Could not find a config file in model/langboat/bloom-800m-zh - will assume that the vocabulary was not modified.\n",
      "  warnings.warn(\n",
      "D:\\working\\mycode\\bloom_med_lora\\venv\\Lib\\site-packages\\peft\\utils\\save_and_load.py:154: UserWarning: Could not find a config file in model/langboat/bloom-800m-zh - will assume that the vocabulary was not modified.\n",
      "  warnings.warn(\n",
      "D:\\working\\mycode\\bloom_med_lora\\venv\\Lib\\site-packages\\peft\\utils\\save_and_load.py:154: UserWarning: Could not find a config file in model/langboat/bloom-800m-zh - will assume that the vocabulary was not modified.\n",
      "  warnings.warn(\n",
      "D:\\working\\mycode\\bloom_med_lora\\venv\\Lib\\site-packages\\peft\\utils\\save_and_load.py:154: UserWarning: Could not find a config file in model/langboat/bloom-800m-zh - will assume that the vocabulary was not modified.\n",
      "  warnings.warn(\n",
      "D:\\working\\mycode\\bloom_med_lora\\venv\\Lib\\site-packages\\peft\\utils\\save_and_load.py:154: UserWarning: Could not find a config file in model/langboat/bloom-800m-zh - will assume that the vocabulary was not modified.\n",
      "  warnings.warn(\n",
      "D:\\working\\mycode\\bloom_med_lora\\venv\\Lib\\site-packages\\peft\\utils\\save_and_load.py:154: UserWarning: Could not find a config file in model/langboat/bloom-800m-zh - will assume that the vocabulary was not modified.\n",
      "  warnings.warn(\n",
      "D:\\working\\mycode\\bloom_med_lora\\venv\\Lib\\site-packages\\peft\\utils\\save_and_load.py:154: UserWarning: Could not find a config file in model/langboat/bloom-800m-zh - will assume that the vocabulary was not modified.\n",
      "  warnings.warn(\n",
      "D:\\working\\mycode\\bloom_med_lora\\venv\\Lib\\site-packages\\peft\\utils\\save_and_load.py:154: UserWarning: Could not find a config file in model/langboat/bloom-800m-zh - will assume that the vocabulary was not modified.\n",
      "  warnings.warn(\n",
      "D:\\working\\mycode\\bloom_med_lora\\venv\\Lib\\site-packages\\peft\\utils\\save_and_load.py:154: UserWarning: Could not find a config file in model/langboat/bloom-800m-zh - will assume that the vocabulary was not modified.\n",
      "  warnings.warn(\n",
      "D:\\working\\mycode\\bloom_med_lora\\venv\\Lib\\site-packages\\peft\\utils\\save_and_load.py:154: UserWarning: Could not find a config file in model/langboat/bloom-800m-zh - will assume that the vocabulary was not modified.\n",
      "  warnings.warn(\n"
     ]
    },
    {
     "data": {
      "text/plain": [
       "TrainOutput(global_step=6492, training_loss=1.7225325720147153, metrics={'train_runtime': 2595.0738, 'train_samples_per_second': 20.018, 'train_steps_per_second': 2.502, 'total_flos': 1.5789185353322496e+16, 'train_loss': 1.7225325720147153, 'epoch': 5.998613998613998})"
      ]
     },
     "execution_count": 23,
     "metadata": {},
     "output_type": "execute_result"
    }
   ],
   "execution_count": 23
  },
  {
   "cell_type": "markdown",
   "metadata": {},
   "source": [
    "## Step8 模型推理"
   ]
  },
  {
   "metadata": {
    "ExecuteTime": {
     "end_time": "2024-05-03T14:07:35.548796Z",
     "start_time": "2024-05-03T14:07:34.934875Z"
    }
   },
   "cell_type": "code",
   "source": [
    "from transformers import pipeline\n",
    "\n",
    "pipe = pipeline(\"text-generation\", model=model, tokenizer=tokenizer ,truncation=True)\n",
    "\n",
    "ipt = \"Human: {}\\n{}\".format(\"关节部位红肿疼痛，排尿困难,怎么办？\", \"\").strip() + \"\\n\\nAssistant: \"\n",
    "print(pipe(ipt, max_length=400, do_sample=True, ))"
   ],
   "outputs": [
    {
     "name": "stderr",
     "output_type": "stream",
     "text": [
      "The model 'PeftModelForCausalLM' is not supported for text-generation. Supported models are ['BartForCausalLM', 'BertLMHeadModel', 'BertGenerationDecoder', 'BigBirdForCausalLM', 'BigBirdPegasusForCausalLM', 'BioGptForCausalLM', 'BlenderbotForCausalLM', 'BlenderbotSmallForCausalLM', 'BloomForCausalLM', 'CamembertForCausalLM', 'LlamaForCausalLM', 'CodeGenForCausalLM', 'CohereForCausalLM', 'CpmAntForCausalLM', 'CTRLLMHeadModel', 'Data2VecTextForCausalLM', 'DbrxForCausalLM', 'ElectraForCausalLM', 'ErnieForCausalLM', 'FalconForCausalLM', 'FuyuForCausalLM', 'GemmaForCausalLM', 'GitForCausalLM', 'GPT2LMHeadModel', 'GPT2LMHeadModel', 'GPTBigCodeForCausalLM', 'GPTNeoForCausalLM', 'GPTNeoXForCausalLM', 'GPTNeoXJapaneseForCausalLM', 'GPTJForCausalLM', 'JambaForCausalLM', 'LlamaForCausalLM', 'MambaForCausalLM', 'MarianForCausalLM', 'MBartForCausalLM', 'MegaForCausalLM', 'MegatronBertForCausalLM', 'MistralForCausalLM', 'MixtralForCausalLM', 'MptForCausalLM', 'MusicgenForCausalLM', 'MusicgenMelodyForCausalLM', 'MvpForCausalLM', 'OlmoForCausalLM', 'OpenLlamaForCausalLM', 'OpenAIGPTLMHeadModel', 'OPTForCausalLM', 'PegasusForCausalLM', 'PersimmonForCausalLM', 'PhiForCausalLM', 'PLBartForCausalLM', 'ProphetNetForCausalLM', 'QDQBertLMHeadModel', 'Qwen2ForCausalLM', 'Qwen2MoeForCausalLM', 'RecurrentGemmaForCausalLM', 'ReformerModelWithLMHead', 'RemBertForCausalLM', 'RobertaForCausalLM', 'RobertaPreLayerNormForCausalLM', 'RoCBertForCausalLM', 'RoFormerForCausalLM', 'RwkvForCausalLM', 'Speech2Text2ForCausalLM', 'StableLmForCausalLM', 'Starcoder2ForCausalLM', 'TransfoXLLMHeadModel', 'TrOCRForCausalLM', 'WhisperForCausalLM', 'XGLMForCausalLM', 'XLMWithLMHeadModel', 'XLMProphetNetForCausalLM', 'XLMRobertaForCausalLM', 'XLMRobertaXLForCausalLM', 'XLNetLMHeadModel', 'XmodForCausalLM'].\n",
      "Truncation was not explicitly activated but `max_length` is provided a specific value, please use `truncation=True` to explicitly truncate examples to max length. Defaulting to 'longest_first' truncation strategy. If you encode pairs of sequences (GLUE-style) with the tokenizer you can select this strategy more precisely by providing a specific strategy to `truncation`.\n"
     ]
    },
    {
     "name": "stdout",
     "output_type": "stream",
     "text": [
      "[{'generated_text': 'Human: 关节部位红肿疼痛，排尿困难,怎么办？\\n\\nAssistant: 这些症状可能是其他疾病引起的，建议去内科进行详细的检查和治疗。'}]\n"
     ]
    }
   ],
   "execution_count": 24
  },
  {
   "metadata": {},
   "cell_type": "markdown",
   "source": "## Step9 合并权重"
  },
  {
   "metadata": {
    "ExecuteTime": {
     "end_time": "2024-05-03T18:06:36.752241Z",
     "start_time": "2024-05-03T18:06:33.418035Z"
    }
   },
   "cell_type": "code",
   "source": [
    "from peft import AutoPeftModelForCausalLM\n",
    "from transformers import AutoTokenizer\n",
    "import torch\n",
    "\n",
    "base_model_dir = 'model/langboat/bloom-800m-zh'\n",
    "lora_model_dir = 'bloomoutput/checkpoint-6000'\n",
    "\n",
    "tokenizer = AutoTokenizer.from_pretrained(base_model_dir,trust_remote_code=True)\n",
    "\n",
    "model = AutoPeftModelForCausalLM.from_pretrained(lora_model_dir, device_map='cuda', torch_dtype=torch.bfloat16)\n",
    "\n",
    "model = model.merge_and_unload()\n",
    "output_dir = 'bloomoutput/bloom-800m-zh-merged-med'\n",
    "model.save_pretrained(output_dir)\n",
    "torch.save(model.state_dict(), 'bloomoutput/bloom-800m-zh-merged-med/pytorch_model.bin'.format(6000))"
   ],
   "outputs": [],
   "execution_count": 3
  },
  {
   "metadata": {},
   "cell_type": "markdown",
   "source": "# Step10 推理"
  },
  {
   "metadata": {
    "ExecuteTime": {
     "end_time": "2024-05-04T02:47:49.349727Z",
     "start_time": "2024-05-04T02:47:48.030951Z"
    }
   },
   "cell_type": "code",
   "source": [
    "from transformers import pipeline,AutoTokenizer,AutoModelForCausalLM\n",
    "from transformers import pipeline\n",
    "retokenizer = AutoTokenizer.from_pretrained(\"model/langboat/bloom-800m-zh\")\n",
    "remodel = AutoModelForCausalLM.from_pretrained(\"bloomoutput/bloom-800m-zh-merged-med\", \n",
    "                                             low_cpu_mem_usage=True,\n",
    "                                             torch_dtype=torch.half,\n",
    "                                             device_map=\"cuda\")\n",
    "repipe = pipeline(\"text-generation\", model=remodel, tokenizer=retokenizer ,truncation=True)\n",
    "\n",
    "ipt = \"Human: {}\\n{}\".format(\"关节部位红肿疼痛，排尿困难,怎么办？\", \"\").strip() + \"\\n\\nAssistant: \"\n",
    "print(repipe(ipt, max_length=400, do_sample=True, ))"
   ],
   "outputs": [
    {
     "name": "stderr",
     "output_type": "stream",
     "text": [
      "Truncation was not explicitly activated but `max_length` is provided a specific value, please use `truncation=True` to explicitly truncate examples to max length. Defaulting to 'longest_first' truncation strategy. If you encode pairs of sequences (GLUE-style) with the tokenizer you can select this strategy more precisely by providing a specific strategy to `truncation`.\n"
     ]
    },
    {
     "name": "stdout",
     "output_type": "stream",
     "text": [
      "[{'generated_text': 'Human: 关节部位红肿疼痛，排尿困难,怎么办？\\n\\nAssistant: 需要就诊，医生会综合病情制定治疗方案，包括药物治疗和手术治疗。药物治疗包括前列地尔、普鲁卡因等。'}]\n"
     ]
    }
   ],
   "execution_count": 5
  }
 ],
 "metadata": {
  "kernelspec": {
   "display_name": "Python 3 (ipykernel)",
   "language": "python",
   "name": "python3"
  },
  "language_info": {
   "codemirror_mode": {
    "name": "ipython",
    "version": 3
   },
   "file_extension": ".py",
   "mimetype": "text/x-python",
   "name": "python",
   "nbconvert_exporter": "python",
   "pygments_lexer": "ipython3",
   "version": "3.8.10"
  }
 },
 "nbformat": 4,
 "nbformat_minor": 4
}
